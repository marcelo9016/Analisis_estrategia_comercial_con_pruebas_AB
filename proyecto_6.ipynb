{
 "cells": [
  {
   "cell_type": "markdown",
   "metadata": {},
   "source": [
    "¡Hola, Marcelo!\n",
    "\n",
    "Mi nombre es Tonatiuh Cruz. Me complace revisar tu proyecto hoy.\n",
    "\n",
    "Al identificar cualquier error inicialmente, simplemente los destacaré. Te animo a localizar y abordar los problemas de forma independiente como parte de tu preparación para un rol como data-analyst. En un entorno profesional, tu líder de equipo seguiría un enfoque similar. Si encuentras la tarea desafiante, proporcionaré una pista más específica en la próxima iteración.\n",
    "\n",
    "Encontrarás mis comentarios a continuación - **por favor no los muevas, modifiques o elimines**.\n",
    "\n",
    "Puedes encontrar mis comentarios en cajas verdes, amarillas o rojas como esta:\n",
    "\n",
    "<div class=\"alert alert-block alert-success\">\n",
    "<b>Comentario del revisor</b> <a class=\"tocSkip\"></a>\n",
    "\n",
    "Éxito. Todo está hecho correctamente.\n",
    "</div>\n",
    "\n",
    "<div class=\"alert alert-block alert-warning\">\n",
    "<b>Comentario del revisor</b> <a class=\"tocSkip\"></a>\n",
    "\n",
    "Observaciones. Algunas recomendaciones.\n",
    "</div>\n",
    "\n",
    "<div class=\"alert alert-block alert-danger\">\n",
    "<b>Comentario del revisor</b> <a class=\"tocSkip\"></a>\n",
    "\n",
    "Necesita corrección. El bloque requiere algunas correcciones. El trabajo no puede ser aceptado con comentarios en rojo.\n",
    "</div>\n",
    "\n",
    "Puedes responderme utilizando esto:\n",
    "\n",
    "<div class=\"alert alert-block alert-info\">"
   ]
  },
  {
   "cell_type": "markdown",
   "metadata": {},
   "source": [
    "<div class=\"alert alert-block alert-success\">\n",
    "<b>Resumen de la revisión 1</b> <a class=\"tocSkip\"></a>\n",
    "\n",
    "Hola Marcelo! Has hecho un excelente trabajo con los ajustes, cada vez más cercas de convertirte en una analista de datos. Realizaste la carga de bases, su análisis inicial, sus ajustes, un análisis de algunos variables conmplementado con gráficas y el desarrollo de las pruebas de hipótesis. Solamente te dejo algunos comentarios para complementar el análisis. \n",
    "\n",
    "Sigue con el excelente trabajo!\n",
    "</div>"
   ]
  },
  {
   "cell_type": "markdown",
   "metadata": {},
   "source": [
    "<div class=\"alert alert-block alert-info\"> Hola Tonatiuh! mucho gusto, muchisimas gracias por sus observaciones, realice todas las correcciones indicadas y los resultados definitivamente mejoraron mucho, nuevamente muchas gracias por habermelos señalado por han enriquesido mi conociminto especialmente en el manejo y comprencion de hipotesis."
   ]
  },
  {
   "cell_type": "markdown",
   "metadata": {
    "id": "GSVEIrkHGnV5"
   },
   "source": [
    "###Tienes que identificar patrones que determinen si un juego tiene éxito o no."
   ]
  },
  {
   "cell_type": "markdown",
   "metadata": {
    "id": "72wX9usNGrpe"
   },
   "source": [
    "Trabajas para la tienda online Ice que vende videojuegos por todo el mundo. Las reseñas de usuarios y expertos, los géneros, las plataformas (por ejemplo, Xbox o PlayStation) y los datos históricos sobre las ventas de juegos están disponibles en fuentes abiertas."
   ]
  },
  {
   "cell_type": "markdown",
   "metadata": {
    "id": "6NVu87mwvtfn"
   },
   "source": [
    "###Paso 1. Abre el archivo de datos y estudia la información general"
   ]
  },
  {
   "cell_type": "markdown",
   "metadata": {
    "id": "4FKJ3V7lG8u-"
   },
   "source": [
    "###1.1.-Inicialización"
   ]
  },
  {
   "cell_type": "code",
   "execution_count": 1,
   "metadata": {
    "id": "B-PiKDi-GGCm"
   },
   "outputs": [],
   "source": [
    "# Cargar todas las librerías\n",
    "import pandas as pd\n",
    "import numpy as np\n",
    "import matplotlib.pyplot as plt\n",
    "import seaborn as sns\n",
    "from scipy.stats import ttest_ind\n",
    "from scipy import stats as st\n",
    "from scipy.stats import levene"
   ]
  },
  {
   "cell_type": "markdown",
   "metadata": {
    "id": "HudrsFzeHGDJ"
   },
   "source": [
    "###1.2.-Cargar datos"
   ]
  },
  {
   "cell_type": "code",
   "execution_count": 2,
   "metadata": {
    "id": "dqcyv9uMHJEy"
   },
   "outputs": [],
   "source": [
    "juegos = pd.read_csv('/datasets/games.csv')"
   ]
  },
  {
   "cell_type": "markdown",
   "metadata": {},
   "source": [
    "\n",
    "<div class=\"alert alert-block alert-success\">\n",
    "<b>Comentario del revisor:</b> <a class=\"tocSkip\"></a>\n",
    "    \n",
    "Has realizado un excelente trabajo al importar los datos y las bibliotecas necesarias.\n",
    "\n",
    "</div>"
   ]
  },
  {
   "cell_type": "code",
   "execution_count": 3,
   "metadata": {
    "colab": {
     "base_uri": "https://localhost:8080/",
     "height": 423
    },
    "id": "QOOEXgfEHpUQ",
    "outputId": "5f440dc0-247e-4aa5-80bd-8f89063355f3"
   },
   "outputs": [
    {
     "data": {
      "text/html": [
       "<div>\n",
       "<style scoped>\n",
       "    .dataframe tbody tr th:only-of-type {\n",
       "        vertical-align: middle;\n",
       "    }\n",
       "\n",
       "    .dataframe tbody tr th {\n",
       "        vertical-align: top;\n",
       "    }\n",
       "\n",
       "    .dataframe thead th {\n",
       "        text-align: right;\n",
       "    }\n",
       "</style>\n",
       "<table border=\"1\" class=\"dataframe\">\n",
       "  <thead>\n",
       "    <tr style=\"text-align: right;\">\n",
       "      <th></th>\n",
       "      <th>Name</th>\n",
       "      <th>Platform</th>\n",
       "      <th>Year_of_Release</th>\n",
       "      <th>Genre</th>\n",
       "      <th>NA_sales</th>\n",
       "      <th>EU_sales</th>\n",
       "      <th>JP_sales</th>\n",
       "      <th>Other_sales</th>\n",
       "      <th>Critic_Score</th>\n",
       "      <th>User_Score</th>\n",
       "      <th>Rating</th>\n",
       "    </tr>\n",
       "  </thead>\n",
       "  <tbody>\n",
       "    <tr>\n",
       "      <th>0</th>\n",
       "      <td>Wii Sports</td>\n",
       "      <td>Wii</td>\n",
       "      <td>2006.0</td>\n",
       "      <td>Sports</td>\n",
       "      <td>41.36</td>\n",
       "      <td>28.96</td>\n",
       "      <td>3.77</td>\n",
       "      <td>8.45</td>\n",
       "      <td>76.0</td>\n",
       "      <td>8</td>\n",
       "      <td>E</td>\n",
       "    </tr>\n",
       "    <tr>\n",
       "      <th>1</th>\n",
       "      <td>Super Mario Bros.</td>\n",
       "      <td>NES</td>\n",
       "      <td>1985.0</td>\n",
       "      <td>Platform</td>\n",
       "      <td>29.08</td>\n",
       "      <td>3.58</td>\n",
       "      <td>6.81</td>\n",
       "      <td>0.77</td>\n",
       "      <td>NaN</td>\n",
       "      <td>NaN</td>\n",
       "      <td>NaN</td>\n",
       "    </tr>\n",
       "    <tr>\n",
       "      <th>2</th>\n",
       "      <td>Mario Kart Wii</td>\n",
       "      <td>Wii</td>\n",
       "      <td>2008.0</td>\n",
       "      <td>Racing</td>\n",
       "      <td>15.68</td>\n",
       "      <td>12.76</td>\n",
       "      <td>3.79</td>\n",
       "      <td>3.29</td>\n",
       "      <td>82.0</td>\n",
       "      <td>8.3</td>\n",
       "      <td>E</td>\n",
       "    </tr>\n",
       "    <tr>\n",
       "      <th>3</th>\n",
       "      <td>Wii Sports Resort</td>\n",
       "      <td>Wii</td>\n",
       "      <td>2009.0</td>\n",
       "      <td>Sports</td>\n",
       "      <td>15.61</td>\n",
       "      <td>10.93</td>\n",
       "      <td>3.28</td>\n",
       "      <td>2.95</td>\n",
       "      <td>80.0</td>\n",
       "      <td>8</td>\n",
       "      <td>E</td>\n",
       "    </tr>\n",
       "    <tr>\n",
       "      <th>4</th>\n",
       "      <td>Pokemon Red/Pokemon Blue</td>\n",
       "      <td>GB</td>\n",
       "      <td>1996.0</td>\n",
       "      <td>Role-Playing</td>\n",
       "      <td>11.27</td>\n",
       "      <td>8.89</td>\n",
       "      <td>10.22</td>\n",
       "      <td>1.00</td>\n",
       "      <td>NaN</td>\n",
       "      <td>NaN</td>\n",
       "      <td>NaN</td>\n",
       "    </tr>\n",
       "    <tr>\n",
       "      <th>...</th>\n",
       "      <td>...</td>\n",
       "      <td>...</td>\n",
       "      <td>...</td>\n",
       "      <td>...</td>\n",
       "      <td>...</td>\n",
       "      <td>...</td>\n",
       "      <td>...</td>\n",
       "      <td>...</td>\n",
       "      <td>...</td>\n",
       "      <td>...</td>\n",
       "      <td>...</td>\n",
       "    </tr>\n",
       "    <tr>\n",
       "      <th>16710</th>\n",
       "      <td>Samurai Warriors: Sanada Maru</td>\n",
       "      <td>PS3</td>\n",
       "      <td>2016.0</td>\n",
       "      <td>Action</td>\n",
       "      <td>0.00</td>\n",
       "      <td>0.00</td>\n",
       "      <td>0.01</td>\n",
       "      <td>0.00</td>\n",
       "      <td>NaN</td>\n",
       "      <td>NaN</td>\n",
       "      <td>NaN</td>\n",
       "    </tr>\n",
       "    <tr>\n",
       "      <th>16711</th>\n",
       "      <td>LMA Manager 2007</td>\n",
       "      <td>X360</td>\n",
       "      <td>2006.0</td>\n",
       "      <td>Sports</td>\n",
       "      <td>0.00</td>\n",
       "      <td>0.01</td>\n",
       "      <td>0.00</td>\n",
       "      <td>0.00</td>\n",
       "      <td>NaN</td>\n",
       "      <td>NaN</td>\n",
       "      <td>NaN</td>\n",
       "    </tr>\n",
       "    <tr>\n",
       "      <th>16712</th>\n",
       "      <td>Haitaka no Psychedelica</td>\n",
       "      <td>PSV</td>\n",
       "      <td>2016.0</td>\n",
       "      <td>Adventure</td>\n",
       "      <td>0.00</td>\n",
       "      <td>0.00</td>\n",
       "      <td>0.01</td>\n",
       "      <td>0.00</td>\n",
       "      <td>NaN</td>\n",
       "      <td>NaN</td>\n",
       "      <td>NaN</td>\n",
       "    </tr>\n",
       "    <tr>\n",
       "      <th>16713</th>\n",
       "      <td>Spirits &amp; Spells</td>\n",
       "      <td>GBA</td>\n",
       "      <td>2003.0</td>\n",
       "      <td>Platform</td>\n",
       "      <td>0.01</td>\n",
       "      <td>0.00</td>\n",
       "      <td>0.00</td>\n",
       "      <td>0.00</td>\n",
       "      <td>NaN</td>\n",
       "      <td>NaN</td>\n",
       "      <td>NaN</td>\n",
       "    </tr>\n",
       "    <tr>\n",
       "      <th>16714</th>\n",
       "      <td>Winning Post 8 2016</td>\n",
       "      <td>PSV</td>\n",
       "      <td>2016.0</td>\n",
       "      <td>Simulation</td>\n",
       "      <td>0.00</td>\n",
       "      <td>0.00</td>\n",
       "      <td>0.01</td>\n",
       "      <td>0.00</td>\n",
       "      <td>NaN</td>\n",
       "      <td>NaN</td>\n",
       "      <td>NaN</td>\n",
       "    </tr>\n",
       "  </tbody>\n",
       "</table>\n",
       "<p>16715 rows × 11 columns</p>\n",
       "</div>"
      ],
      "text/plain": [
       "                                Name Platform  Year_of_Release         Genre  \\\n",
       "0                         Wii Sports      Wii           2006.0        Sports   \n",
       "1                  Super Mario Bros.      NES           1985.0      Platform   \n",
       "2                     Mario Kart Wii      Wii           2008.0        Racing   \n",
       "3                  Wii Sports Resort      Wii           2009.0        Sports   \n",
       "4           Pokemon Red/Pokemon Blue       GB           1996.0  Role-Playing   \n",
       "...                              ...      ...              ...           ...   \n",
       "16710  Samurai Warriors: Sanada Maru      PS3           2016.0        Action   \n",
       "16711               LMA Manager 2007     X360           2006.0        Sports   \n",
       "16712        Haitaka no Psychedelica      PSV           2016.0     Adventure   \n",
       "16713               Spirits & Spells      GBA           2003.0      Platform   \n",
       "16714            Winning Post 8 2016      PSV           2016.0    Simulation   \n",
       "\n",
       "       NA_sales  EU_sales  JP_sales  Other_sales  Critic_Score User_Score  \\\n",
       "0         41.36     28.96      3.77         8.45          76.0          8   \n",
       "1         29.08      3.58      6.81         0.77           NaN        NaN   \n",
       "2         15.68     12.76      3.79         3.29          82.0        8.3   \n",
       "3         15.61     10.93      3.28         2.95          80.0          8   \n",
       "4         11.27      8.89     10.22         1.00           NaN        NaN   \n",
       "...         ...       ...       ...          ...           ...        ...   \n",
       "16710      0.00      0.00      0.01         0.00           NaN        NaN   \n",
       "16711      0.00      0.01      0.00         0.00           NaN        NaN   \n",
       "16712      0.00      0.00      0.01         0.00           NaN        NaN   \n",
       "16713      0.01      0.00      0.00         0.00           NaN        NaN   \n",
       "16714      0.00      0.00      0.01         0.00           NaN        NaN   \n",
       "\n",
       "      Rating  \n",
       "0          E  \n",
       "1        NaN  \n",
       "2          E  \n",
       "3          E  \n",
       "4        NaN  \n",
       "...      ...  \n",
       "16710    NaN  \n",
       "16711    NaN  \n",
       "16712    NaN  \n",
       "16713    NaN  \n",
       "16714    NaN  \n",
       "\n",
       "[16715 rows x 11 columns]"
      ]
     },
     "execution_count": 3,
     "metadata": {},
     "output_type": "execute_result"
    }
   ],
   "source": [
    "juegos"
   ]
  },
  {
   "cell_type": "code",
   "execution_count": 4,
   "metadata": {
    "colab": {
     "base_uri": "https://localhost:8080/"
    },
    "id": "GalrAYfnIJ00",
    "outputId": "5e519f29-965b-47fb-c13d-4bcb629a6f6b"
   },
   "outputs": [
    {
     "name": "stdout",
     "output_type": "stream",
     "text": [
      "<class 'pandas.core.frame.DataFrame'>\n",
      "RangeIndex: 16715 entries, 0 to 16714\n",
      "Data columns (total 11 columns):\n",
      " #   Column           Non-Null Count  Dtype  \n",
      "---  ------           --------------  -----  \n",
      " 0   Name             16713 non-null  object \n",
      " 1   Platform         16715 non-null  object \n",
      " 2   Year_of_Release  16446 non-null  float64\n",
      " 3   Genre            16713 non-null  object \n",
      " 4   NA_sales         16715 non-null  float64\n",
      " 5   EU_sales         16715 non-null  float64\n",
      " 6   JP_sales         16715 non-null  float64\n",
      " 7   Other_sales      16715 non-null  float64\n",
      " 8   Critic_Score     8137 non-null   float64\n",
      " 9   User_Score       10014 non-null  object \n",
      " 10  Rating           9949 non-null   object \n",
      "dtypes: float64(6), object(5)\n",
      "memory usage: 1.4+ MB\n"
     ]
    }
   ],
   "source": [
    "juegos.info()"
   ]
  },
  {
   "cell_type": "code",
   "execution_count": 5,
   "metadata": {
    "colab": {
     "base_uri": "https://localhost:8080/",
     "height": 300
    },
    "id": "CpnUgckJjrQk",
    "outputId": "702219e9-bcb5-4e8c-8113-790115f160bc"
   },
   "outputs": [
    {
     "data": {
      "text/html": [
       "<div>\n",
       "<style scoped>\n",
       "    .dataframe tbody tr th:only-of-type {\n",
       "        vertical-align: middle;\n",
       "    }\n",
       "\n",
       "    .dataframe tbody tr th {\n",
       "        vertical-align: top;\n",
       "    }\n",
       "\n",
       "    .dataframe thead th {\n",
       "        text-align: right;\n",
       "    }\n",
       "</style>\n",
       "<table border=\"1\" class=\"dataframe\">\n",
       "  <thead>\n",
       "    <tr style=\"text-align: right;\">\n",
       "      <th></th>\n",
       "      <th>Year_of_Release</th>\n",
       "      <th>NA_sales</th>\n",
       "      <th>EU_sales</th>\n",
       "      <th>JP_sales</th>\n",
       "      <th>Other_sales</th>\n",
       "      <th>Critic_Score</th>\n",
       "    </tr>\n",
       "  </thead>\n",
       "  <tbody>\n",
       "    <tr>\n",
       "      <th>count</th>\n",
       "      <td>16446.000000</td>\n",
       "      <td>16715.000000</td>\n",
       "      <td>16715.000000</td>\n",
       "      <td>16715.000000</td>\n",
       "      <td>16715.000000</td>\n",
       "      <td>8137.000000</td>\n",
       "    </tr>\n",
       "    <tr>\n",
       "      <th>mean</th>\n",
       "      <td>2006.484616</td>\n",
       "      <td>0.263377</td>\n",
       "      <td>0.145060</td>\n",
       "      <td>0.077617</td>\n",
       "      <td>0.047342</td>\n",
       "      <td>68.967679</td>\n",
       "    </tr>\n",
       "    <tr>\n",
       "      <th>std</th>\n",
       "      <td>5.877050</td>\n",
       "      <td>0.813604</td>\n",
       "      <td>0.503339</td>\n",
       "      <td>0.308853</td>\n",
       "      <td>0.186731</td>\n",
       "      <td>13.938165</td>\n",
       "    </tr>\n",
       "    <tr>\n",
       "      <th>min</th>\n",
       "      <td>1980.000000</td>\n",
       "      <td>0.000000</td>\n",
       "      <td>0.000000</td>\n",
       "      <td>0.000000</td>\n",
       "      <td>0.000000</td>\n",
       "      <td>13.000000</td>\n",
       "    </tr>\n",
       "    <tr>\n",
       "      <th>25%</th>\n",
       "      <td>2003.000000</td>\n",
       "      <td>0.000000</td>\n",
       "      <td>0.000000</td>\n",
       "      <td>0.000000</td>\n",
       "      <td>0.000000</td>\n",
       "      <td>60.000000</td>\n",
       "    </tr>\n",
       "    <tr>\n",
       "      <th>50%</th>\n",
       "      <td>2007.000000</td>\n",
       "      <td>0.080000</td>\n",
       "      <td>0.020000</td>\n",
       "      <td>0.000000</td>\n",
       "      <td>0.010000</td>\n",
       "      <td>71.000000</td>\n",
       "    </tr>\n",
       "    <tr>\n",
       "      <th>75%</th>\n",
       "      <td>2010.000000</td>\n",
       "      <td>0.240000</td>\n",
       "      <td>0.110000</td>\n",
       "      <td>0.040000</td>\n",
       "      <td>0.030000</td>\n",
       "      <td>79.000000</td>\n",
       "    </tr>\n",
       "    <tr>\n",
       "      <th>max</th>\n",
       "      <td>2016.000000</td>\n",
       "      <td>41.360000</td>\n",
       "      <td>28.960000</td>\n",
       "      <td>10.220000</td>\n",
       "      <td>10.570000</td>\n",
       "      <td>98.000000</td>\n",
       "    </tr>\n",
       "  </tbody>\n",
       "</table>\n",
       "</div>"
      ],
      "text/plain": [
       "       Year_of_Release      NA_sales      EU_sales      JP_sales  \\\n",
       "count     16446.000000  16715.000000  16715.000000  16715.000000   \n",
       "mean       2006.484616      0.263377      0.145060      0.077617   \n",
       "std           5.877050      0.813604      0.503339      0.308853   \n",
       "min        1980.000000      0.000000      0.000000      0.000000   \n",
       "25%        2003.000000      0.000000      0.000000      0.000000   \n",
       "50%        2007.000000      0.080000      0.020000      0.000000   \n",
       "75%        2010.000000      0.240000      0.110000      0.040000   \n",
       "max        2016.000000     41.360000     28.960000     10.220000   \n",
       "\n",
       "        Other_sales  Critic_Score  \n",
       "count  16715.000000   8137.000000  \n",
       "mean       0.047342     68.967679  \n",
       "std        0.186731     13.938165  \n",
       "min        0.000000     13.000000  \n",
       "25%        0.000000     60.000000  \n",
       "50%        0.010000     71.000000  \n",
       "75%        0.030000     79.000000  \n",
       "max       10.570000     98.000000  "
      ]
     },
     "execution_count": 5,
     "metadata": {},
     "output_type": "execute_result"
    }
   ],
   "source": [
    "juegos.describe()"
   ]
  },
  {
   "cell_type": "markdown",
   "metadata": {
    "id": "W3i5GGQEHfgr"
   },
   "source": [
    "###Paso 2. Prepara los datos"
   ]
  },
  {
   "cell_type": "markdown",
   "metadata": {
    "id": "uAknvB7REcT1"
   },
   "source": [
    "2.1 Convertir todos los nombres de las columnas a minusculas"
   ]
  },
  {
   "cell_type": "code",
   "execution_count": 6,
   "metadata": {
    "colab": {
     "base_uri": "https://localhost:8080/"
    },
    "id": "Irt6cNXgHw_Z",
    "outputId": "7a1094bf-cc22-4789-a7be-7ef6f4ce4fd4"
   },
   "outputs": [
    {
     "data": {
      "text/plain": [
       "Index(['name', 'platform', 'year_of_release', 'genre', 'na_sales', 'eu_sales',\n",
       "       'jp_sales', 'other_sales', 'critic_score', 'user_score', 'rating'],\n",
       "      dtype='object')"
      ]
     },
     "execution_count": 6,
     "metadata": {},
     "output_type": "execute_result"
    }
   ],
   "source": [
    "juegos.columns=juegos.columns.str.lower()\n",
    "juegos.columns"
   ]
  },
  {
   "cell_type": "markdown",
   "metadata": {
    "id": "KRWEWH13ofGl"
   },
   "source": [
    "2.2 Convierte los datos en los tipos necesarios."
   ]
  },
  {
   "cell_type": "code",
   "execution_count": 7,
   "metadata": {
    "colab": {
     "base_uri": "https://localhost:8080/"
    },
    "id": "efIas8FeIDm7",
    "outputId": "1b498c5d-d4d4-4958-fa18-3c7a065e1cc7"
   },
   "outputs": [
    {
     "name": "stdout",
     "output_type": "stream",
     "text": [
      "<class 'pandas.core.frame.DataFrame'>\n",
      "RangeIndex: 16715 entries, 0 to 16714\n",
      "Data columns (total 11 columns):\n",
      " #   Column           Non-Null Count  Dtype  \n",
      "---  ------           --------------  -----  \n",
      " 0   name             16713 non-null  object \n",
      " 1   platform         16715 non-null  object \n",
      " 2   year_of_release  16446 non-null  float64\n",
      " 3   genre            16713 non-null  object \n",
      " 4   na_sales         16715 non-null  float64\n",
      " 5   eu_sales         16715 non-null  float64\n",
      " 6   jp_sales         16715 non-null  float64\n",
      " 7   other_sales      16715 non-null  float64\n",
      " 8   critic_score     8137 non-null   float64\n",
      " 9   user_score       7590 non-null   float64\n",
      " 10  rating           9949 non-null   object \n",
      "dtypes: float64(7), object(4)\n",
      "memory usage: 1.4+ MB\n"
     ]
    }
   ],
   "source": [
    "#Convertimos las columnas de año y critica del usuario de object a datos numericos\n",
    "#ya que podriamos necesitar realizar calculos matematicos y esto nos ayudaria a futuro\n",
    "juegos['year_of_release'] = pd.to_numeric(juegos['year_of_release'], errors='coerce')\n",
    "juegos['user_score'] = pd.to_numeric(juegos['user_score'], errors='coerce')\n",
    "#verificamos que los cambios se hayan realizado con exito\n",
    "juegos.info()"
   ]
  },
  {
   "cell_type": "markdown",
   "metadata": {},
   "source": [
    "<div class=\"alert alert-block alert-info\">\n",
    "    <b>Comentario del revisor:</b> <a class=\"tocSkip\"></a>\n",
    "    \n",
    "En ocasiones podemos completar los valores faltantes con información con proxys. Por ejemplo en este caso los podríamos completar con los años de lanzamientos de los juegos en otras plataformas\n",
    "</div>"
   ]
  },
  {
   "cell_type": "markdown",
   "metadata": {
    "id": "W4KwXgy4mkzf"
   },
   "source": [
    "2.3.- Si es necesario, elige la manera de tratar los valores ausentes:"
   ]
  },
  {
   "cell_type": "code",
   "execution_count": 8,
   "metadata": {
    "colab": {
     "base_uri": "https://localhost:8080/",
     "height": 429
    },
    "id": "YAjtGyQtkzh4",
    "outputId": "7c485566-4867-4ce3-a785-64db3a05ca09"
   },
   "outputs": [
    {
     "data": {
      "text/plain": [
       "name                  2\n",
       "platform              0\n",
       "year_of_release     269\n",
       "genre                 2\n",
       "na_sales              0\n",
       "eu_sales              0\n",
       "jp_sales              0\n",
       "other_sales           0\n",
       "critic_score       8578\n",
       "user_score         9125\n",
       "rating             6766\n",
       "dtype: int64"
      ]
     },
     "execution_count": 8,
     "metadata": {},
     "output_type": "execute_result"
    }
   ],
   "source": [
    "#primero calculamos la cantidad de valores ausentes por columnas\n",
    "valores_faltantes=juegos.isnull().sum()\n",
    "valores_faltantes"
   ]
  },
  {
   "cell_type": "code",
   "execution_count": 9,
   "metadata": {
    "colab": {
     "base_uri": "https://localhost:8080/",
     "height": 429
    },
    "id": "cOqW4DRmm7UB",
    "outputId": "d8145cbb-16b7-4961-85cb-6da243975d2f"
   },
   "outputs": [
    {
     "data": {
      "text/plain": [
       "name                0.011965\n",
       "platform            0.000000\n",
       "year_of_release     1.609333\n",
       "genre               0.011965\n",
       "na_sales            0.000000\n",
       "eu_sales            0.000000\n",
       "jp_sales            0.000000\n",
       "other_sales         0.000000\n",
       "critic_score       51.319174\n",
       "user_score         54.591684\n",
       "rating             40.478612\n",
       "dtype: float64"
      ]
     },
     "execution_count": 9,
     "metadata": {},
     "output_type": "execute_result"
    }
   ],
   "source": [
    "#segundo calculamos el porcentaje de valores ausentes por columna\n",
    "porcentaje_faltantes= valores_faltantes/len(juegos)*100\n",
    "porcentaje_faltantes"
   ]
  },
  {
   "cell_type": "markdown",
   "metadata": {
    "id": "vb8NP9h7Y-jK"
   },
   "source": [
    "2.4.-Tratar los valores ausentes"
   ]
  },
  {
   "cell_type": "code",
   "execution_count": 10,
   "metadata": {
    "colab": {
     "base_uri": "https://localhost:8080/"
    },
    "id": "MwlEcqewZCWL",
    "outputId": "d3b54e69-d0e3-401e-c1eb-e31a8c69d970"
   },
   "outputs": [
    {
     "name": "stdout",
     "output_type": "stream",
     "text": [
      "<class 'pandas.core.frame.DataFrame'>\n",
      "Int64Index: 16444 entries, 0 to 16714\n",
      "Data columns (total 11 columns):\n",
      " #   Column           Non-Null Count  Dtype  \n",
      "---  ------           --------------  -----  \n",
      " 0   name             16444 non-null  object \n",
      " 1   platform         16444 non-null  object \n",
      " 2   year_of_release  16444 non-null  float64\n",
      " 3   genre            16444 non-null  object \n",
      " 4   na_sales         16444 non-null  float64\n",
      " 5   eu_sales         16444 non-null  float64\n",
      " 6   jp_sales         16444 non-null  float64\n",
      " 7   other_sales      16444 non-null  float64\n",
      " 8   critic_score     16444 non-null  float64\n",
      " 9   user_score       16444 non-null  float64\n",
      " 10  rating           16444 non-null  object \n",
      "dtypes: float64(7), object(4)\n",
      "memory usage: 1.5+ MB\n"
     ]
    },
    {
     "name": "stderr",
     "output_type": "stream",
     "text": [
      "/tmp/ipykernel_32/23069258.py:9: SettingWithCopyWarning: \n",
      "A value is trying to be set on a copy of a slice from a DataFrame.\n",
      "Try using .loc[row_indexer,col_indexer] = value instead\n",
      "\n",
      "See the caveats in the documentation: https://pandas.pydata.org/pandas-docs/stable/user_guide/indexing.html#returning-a-view-versus-a-copy\n",
      "  juegos['critic_score']= juegos['critic_score'].fillna(juegos['critic_score'].median())\n",
      "/tmp/ipykernel_32/23069258.py:11: SettingWithCopyWarning: \n",
      "A value is trying to be set on a copy of a slice from a DataFrame.\n",
      "Try using .loc[row_indexer,col_indexer] = value instead\n",
      "\n",
      "See the caveats in the documentation: https://pandas.pydata.org/pandas-docs/stable/user_guide/indexing.html#returning-a-view-versus-a-copy\n",
      "  juegos['user_score']= juegos['user_score'].fillna(juegos['user_score'].median())\n"
     ]
    }
   ],
   "source": [
    "# #Al conocer que la calificacion de la critica es alfabetica decidimos rellenar los\n",
    "# #valores ausentes de esta columna con el titulo \"sin calificacion\"\n",
    "juegos['rating']= juegos['rating'].fillna('sin calificacion')\n",
    "#eliminamos los valores ausentes de las columnas con contidades que concideramos no criticas\n",
    "#para nuestro analisis\n",
    "juegos= juegos.dropna(subset=['name','year_of_release','genre'])\n",
    "#revisamos nuevamente nuestros valores faltantes\n",
    "#complatamos nuestros valores faltantes de critic_score la mediana\n",
    "juegos['critic_score']= juegos['critic_score'].fillna(juegos['critic_score'].median())\n",
    "#complatamos nuestros valores faltantes de user_score la mediana\n",
    "juegos['user_score']= juegos['user_score'].fillna(juegos['user_score'].median())\n",
    "juegos.info()"
   ]
  },
  {
   "cell_type": "markdown",
   "metadata": {
    "id": "KXNFO7ooIRog"
   },
   "source": [
    "***En base a los resultados obtenidos podemos observar que el porcentaje de significancia de valores ausentes es muy elevado en tres columnas, critic_score,user_score y rating.***\n",
    "\n",
    "***Por lo estudiado y conversado en clase decidimos que para critic_score y user_score es mejor mantener esos datos tal como estan en las columnas para evitar cambios en nuestros resultados futuros, mientras que rating al no ser un valor numero simplimente procedemos a rellenarlos con el titulo sin calificacion.***\n",
    "\n",
    "***En cambio en las columnas name, year of release y genre sus porcentajes son casi insignificantes por lo que procedemos a eliminarlos, tomando en cuenta que su porcentaje no altera nuestros resultados y tambien que si bien la columna de año supera el 1% al rellenar con un valor como la media o mediana podria no tener nada que ver con el año de su lanzamiento y de igual forma esto cambiara completamente nuestros resultados.***"
   ]
  },
  {
   "cell_type": "markdown",
   "metadata": {
    "id": "PrLNOClXuGGR"
   },
   "source": [
    "2.5.-Calcula las ventas totales"
   ]
  },
  {
   "cell_type": "code",
   "execution_count": 11,
   "metadata": {
    "colab": {
     "base_uri": "https://localhost:8080/",
     "height": 701
    },
    "id": "3KMwbV-WuJ3A",
    "outputId": "b883b563-7bde-4e63-df18-834c963397aa"
   },
   "outputs": [
    {
     "name": "stderr",
     "output_type": "stream",
     "text": [
      "/tmp/ipykernel_32/1215755143.py:2: SettingWithCopyWarning: \n",
      "A value is trying to be set on a copy of a slice from a DataFrame.\n",
      "Try using .loc[row_indexer,col_indexer] = value instead\n",
      "\n",
      "See the caveats in the documentation: https://pandas.pydata.org/pandas-docs/stable/user_guide/indexing.html#returning-a-view-versus-a-copy\n",
      "  juegos['ventas_total_regiones']= juegos['na_sales']+juegos['eu_sales']+juegos['jp_sales']+juegos['other_sales']\n"
     ]
    },
    {
     "data": {
      "text/html": [
       "<div>\n",
       "<style scoped>\n",
       "    .dataframe tbody tr th:only-of-type {\n",
       "        vertical-align: middle;\n",
       "    }\n",
       "\n",
       "    .dataframe tbody tr th {\n",
       "        vertical-align: top;\n",
       "    }\n",
       "\n",
       "    .dataframe thead th {\n",
       "        text-align: right;\n",
       "    }\n",
       "</style>\n",
       "<table border=\"1\" class=\"dataframe\">\n",
       "  <thead>\n",
       "    <tr style=\"text-align: right;\">\n",
       "      <th></th>\n",
       "      <th>name</th>\n",
       "      <th>platform</th>\n",
       "      <th>year_of_release</th>\n",
       "      <th>genre</th>\n",
       "      <th>na_sales</th>\n",
       "      <th>eu_sales</th>\n",
       "      <th>jp_sales</th>\n",
       "      <th>other_sales</th>\n",
       "      <th>critic_score</th>\n",
       "      <th>user_score</th>\n",
       "      <th>rating</th>\n",
       "      <th>ventas_total_regiones</th>\n",
       "    </tr>\n",
       "  </thead>\n",
       "  <tbody>\n",
       "    <tr>\n",
       "      <th>0</th>\n",
       "      <td>Wii Sports</td>\n",
       "      <td>Wii</td>\n",
       "      <td>2006.0</td>\n",
       "      <td>Sports</td>\n",
       "      <td>41.36</td>\n",
       "      <td>28.96</td>\n",
       "      <td>3.77</td>\n",
       "      <td>8.45</td>\n",
       "      <td>76.0</td>\n",
       "      <td>8.0</td>\n",
       "      <td>E</td>\n",
       "      <td>82.54</td>\n",
       "    </tr>\n",
       "    <tr>\n",
       "      <th>1</th>\n",
       "      <td>Super Mario Bros.</td>\n",
       "      <td>NES</td>\n",
       "      <td>1985.0</td>\n",
       "      <td>Platform</td>\n",
       "      <td>29.08</td>\n",
       "      <td>3.58</td>\n",
       "      <td>6.81</td>\n",
       "      <td>0.77</td>\n",
       "      <td>71.0</td>\n",
       "      <td>7.5</td>\n",
       "      <td>sin calificacion</td>\n",
       "      <td>40.24</td>\n",
       "    </tr>\n",
       "    <tr>\n",
       "      <th>2</th>\n",
       "      <td>Mario Kart Wii</td>\n",
       "      <td>Wii</td>\n",
       "      <td>2008.0</td>\n",
       "      <td>Racing</td>\n",
       "      <td>15.68</td>\n",
       "      <td>12.76</td>\n",
       "      <td>3.79</td>\n",
       "      <td>3.29</td>\n",
       "      <td>82.0</td>\n",
       "      <td>8.3</td>\n",
       "      <td>E</td>\n",
       "      <td>35.52</td>\n",
       "    </tr>\n",
       "    <tr>\n",
       "      <th>3</th>\n",
       "      <td>Wii Sports Resort</td>\n",
       "      <td>Wii</td>\n",
       "      <td>2009.0</td>\n",
       "      <td>Sports</td>\n",
       "      <td>15.61</td>\n",
       "      <td>10.93</td>\n",
       "      <td>3.28</td>\n",
       "      <td>2.95</td>\n",
       "      <td>80.0</td>\n",
       "      <td>8.0</td>\n",
       "      <td>E</td>\n",
       "      <td>32.77</td>\n",
       "    </tr>\n",
       "    <tr>\n",
       "      <th>4</th>\n",
       "      <td>Pokemon Red/Pokemon Blue</td>\n",
       "      <td>GB</td>\n",
       "      <td>1996.0</td>\n",
       "      <td>Role-Playing</td>\n",
       "      <td>11.27</td>\n",
       "      <td>8.89</td>\n",
       "      <td>10.22</td>\n",
       "      <td>1.00</td>\n",
       "      <td>71.0</td>\n",
       "      <td>7.5</td>\n",
       "      <td>sin calificacion</td>\n",
       "      <td>31.38</td>\n",
       "    </tr>\n",
       "    <tr>\n",
       "      <th>...</th>\n",
       "      <td>...</td>\n",
       "      <td>...</td>\n",
       "      <td>...</td>\n",
       "      <td>...</td>\n",
       "      <td>...</td>\n",
       "      <td>...</td>\n",
       "      <td>...</td>\n",
       "      <td>...</td>\n",
       "      <td>...</td>\n",
       "      <td>...</td>\n",
       "      <td>...</td>\n",
       "      <td>...</td>\n",
       "    </tr>\n",
       "    <tr>\n",
       "      <th>16710</th>\n",
       "      <td>Samurai Warriors: Sanada Maru</td>\n",
       "      <td>PS3</td>\n",
       "      <td>2016.0</td>\n",
       "      <td>Action</td>\n",
       "      <td>0.00</td>\n",
       "      <td>0.00</td>\n",
       "      <td>0.01</td>\n",
       "      <td>0.00</td>\n",
       "      <td>71.0</td>\n",
       "      <td>7.5</td>\n",
       "      <td>sin calificacion</td>\n",
       "      <td>0.01</td>\n",
       "    </tr>\n",
       "    <tr>\n",
       "      <th>16711</th>\n",
       "      <td>LMA Manager 2007</td>\n",
       "      <td>X360</td>\n",
       "      <td>2006.0</td>\n",
       "      <td>Sports</td>\n",
       "      <td>0.00</td>\n",
       "      <td>0.01</td>\n",
       "      <td>0.00</td>\n",
       "      <td>0.00</td>\n",
       "      <td>71.0</td>\n",
       "      <td>7.5</td>\n",
       "      <td>sin calificacion</td>\n",
       "      <td>0.01</td>\n",
       "    </tr>\n",
       "    <tr>\n",
       "      <th>16712</th>\n",
       "      <td>Haitaka no Psychedelica</td>\n",
       "      <td>PSV</td>\n",
       "      <td>2016.0</td>\n",
       "      <td>Adventure</td>\n",
       "      <td>0.00</td>\n",
       "      <td>0.00</td>\n",
       "      <td>0.01</td>\n",
       "      <td>0.00</td>\n",
       "      <td>71.0</td>\n",
       "      <td>7.5</td>\n",
       "      <td>sin calificacion</td>\n",
       "      <td>0.01</td>\n",
       "    </tr>\n",
       "    <tr>\n",
       "      <th>16713</th>\n",
       "      <td>Spirits &amp; Spells</td>\n",
       "      <td>GBA</td>\n",
       "      <td>2003.0</td>\n",
       "      <td>Platform</td>\n",
       "      <td>0.01</td>\n",
       "      <td>0.00</td>\n",
       "      <td>0.00</td>\n",
       "      <td>0.00</td>\n",
       "      <td>71.0</td>\n",
       "      <td>7.5</td>\n",
       "      <td>sin calificacion</td>\n",
       "      <td>0.01</td>\n",
       "    </tr>\n",
       "    <tr>\n",
       "      <th>16714</th>\n",
       "      <td>Winning Post 8 2016</td>\n",
       "      <td>PSV</td>\n",
       "      <td>2016.0</td>\n",
       "      <td>Simulation</td>\n",
       "      <td>0.00</td>\n",
       "      <td>0.00</td>\n",
       "      <td>0.01</td>\n",
       "      <td>0.00</td>\n",
       "      <td>71.0</td>\n",
       "      <td>7.5</td>\n",
       "      <td>sin calificacion</td>\n",
       "      <td>0.01</td>\n",
       "    </tr>\n",
       "  </tbody>\n",
       "</table>\n",
       "<p>16444 rows × 12 columns</p>\n",
       "</div>"
      ],
      "text/plain": [
       "                                name platform  year_of_release         genre  \\\n",
       "0                         Wii Sports      Wii           2006.0        Sports   \n",
       "1                  Super Mario Bros.      NES           1985.0      Platform   \n",
       "2                     Mario Kart Wii      Wii           2008.0        Racing   \n",
       "3                  Wii Sports Resort      Wii           2009.0        Sports   \n",
       "4           Pokemon Red/Pokemon Blue       GB           1996.0  Role-Playing   \n",
       "...                              ...      ...              ...           ...   \n",
       "16710  Samurai Warriors: Sanada Maru      PS3           2016.0        Action   \n",
       "16711               LMA Manager 2007     X360           2006.0        Sports   \n",
       "16712        Haitaka no Psychedelica      PSV           2016.0     Adventure   \n",
       "16713               Spirits & Spells      GBA           2003.0      Platform   \n",
       "16714            Winning Post 8 2016      PSV           2016.0    Simulation   \n",
       "\n",
       "       na_sales  eu_sales  jp_sales  other_sales  critic_score  user_score  \\\n",
       "0         41.36     28.96      3.77         8.45          76.0         8.0   \n",
       "1         29.08      3.58      6.81         0.77          71.0         7.5   \n",
       "2         15.68     12.76      3.79         3.29          82.0         8.3   \n",
       "3         15.61     10.93      3.28         2.95          80.0         8.0   \n",
       "4         11.27      8.89     10.22         1.00          71.0         7.5   \n",
       "...         ...       ...       ...          ...           ...         ...   \n",
       "16710      0.00      0.00      0.01         0.00          71.0         7.5   \n",
       "16711      0.00      0.01      0.00         0.00          71.0         7.5   \n",
       "16712      0.00      0.00      0.01         0.00          71.0         7.5   \n",
       "16713      0.01      0.00      0.00         0.00          71.0         7.5   \n",
       "16714      0.00      0.00      0.01         0.00          71.0         7.5   \n",
       "\n",
       "                 rating  ventas_total_regiones  \n",
       "0                     E                  82.54  \n",
       "1      sin calificacion                  40.24  \n",
       "2                     E                  35.52  \n",
       "3                     E                  32.77  \n",
       "4      sin calificacion                  31.38  \n",
       "...                 ...                    ...  \n",
       "16710  sin calificacion                   0.01  \n",
       "16711  sin calificacion                   0.01  \n",
       "16712  sin calificacion                   0.01  \n",
       "16713  sin calificacion                   0.01  \n",
       "16714  sin calificacion                   0.01  \n",
       "\n",
       "[16444 rows x 12 columns]"
      ]
     },
     "execution_count": 11,
     "metadata": {},
     "output_type": "execute_result"
    }
   ],
   "source": [
    "#suma de las ventas en todas las regiones para cada juego y coloca estos valores en una columna separada.\n",
    "juegos['ventas_total_regiones']= juegos['na_sales']+juegos['eu_sales']+juegos['jp_sales']+juegos['other_sales']\n",
    "juegos"
   ]
  },
  {
   "cell_type": "markdown",
   "metadata": {},
   "source": [
    "<div class=\"alert alert-block alert-danger\">\n",
    "<b>Comentario del revisor:</b> <a class=\"tocSkip\"></a>\n",
    "    \n",
    "Hola! Muy buen trabajo en la sección, ajustaste los nombres de las columnas a minúsculas con el uso de la función str.lower(), cambiaste el tipo de variable de la base de datos y muy buen trabajo con la suma de todas las ventas. \n",
    "\n",
    "Solamente en estos casos cuando trabajamos con distribuciones sesgadas como en este caso se recomienda completar los valores nulos con la mediana para no sesgar nuestros resultados\n",
    "    \n",
    "Además, en ventas totales considera \"other_sales\"\n",
    "\n"
   ]
  },
  {
   "cell_type": "markdown",
   "metadata": {},
   "source": [
    "\n",
    "<div class=\"alert alert-block alert-success\">\n",
    "<b>Comentario del revisor:</b> <a class=\"tocSkip\"></a>\n",
    "    \n",
    "Gran trabajo con el ajuste! Sigue disfrutando los siguientes cursos!"
   ]
  },
  {
   "cell_type": "markdown",
   "metadata": {
    "id": "CenvLQyovccV"
   },
   "source": [
    "###Paso 3. Analiza los datos"
   ]
  },
  {
   "cell_type": "markdown",
   "metadata": {
    "id": "vHWTREJjthj1"
   },
   "source": [
    "3.1 Mira cuántos juegos fueron lanzados en diferentes años"
   ]
  },
  {
   "cell_type": "code",
   "execution_count": 12,
   "metadata": {
    "colab": {
     "base_uri": "https://localhost:8080/",
     "height": 1000
    },
    "id": "zBmZUdSjv62G",
    "outputId": "da48b0ee-007f-40d6-b8d9-f2f76ce8d491"
   },
   "outputs": [
    {
     "data": {
      "text/html": [
       "<div>\n",
       "<style scoped>\n",
       "    .dataframe tbody tr th:only-of-type {\n",
       "        vertical-align: middle;\n",
       "    }\n",
       "\n",
       "    .dataframe tbody tr th {\n",
       "        vertical-align: top;\n",
       "    }\n",
       "\n",
       "    .dataframe thead th {\n",
       "        text-align: right;\n",
       "    }\n",
       "</style>\n",
       "<table border=\"1\" class=\"dataframe\">\n",
       "  <thead>\n",
       "    <tr style=\"text-align: right;\">\n",
       "      <th></th>\n",
       "      <th>year_of_release</th>\n",
       "      <th>Juegos_lanzados_por_año</th>\n",
       "    </tr>\n",
       "  </thead>\n",
       "  <tbody>\n",
       "    <tr>\n",
       "      <th>0</th>\n",
       "      <td>1980.0</td>\n",
       "      <td>9</td>\n",
       "    </tr>\n",
       "    <tr>\n",
       "      <th>1</th>\n",
       "      <td>1981.0</td>\n",
       "      <td>46</td>\n",
       "    </tr>\n",
       "    <tr>\n",
       "      <th>2</th>\n",
       "      <td>1982.0</td>\n",
       "      <td>36</td>\n",
       "    </tr>\n",
       "    <tr>\n",
       "      <th>3</th>\n",
       "      <td>1983.0</td>\n",
       "      <td>17</td>\n",
       "    </tr>\n",
       "    <tr>\n",
       "      <th>4</th>\n",
       "      <td>1984.0</td>\n",
       "      <td>14</td>\n",
       "    </tr>\n",
       "    <tr>\n",
       "      <th>5</th>\n",
       "      <td>1985.0</td>\n",
       "      <td>14</td>\n",
       "    </tr>\n",
       "    <tr>\n",
       "      <th>6</th>\n",
       "      <td>1986.0</td>\n",
       "      <td>21</td>\n",
       "    </tr>\n",
       "    <tr>\n",
       "      <th>7</th>\n",
       "      <td>1987.0</td>\n",
       "      <td>16</td>\n",
       "    </tr>\n",
       "    <tr>\n",
       "      <th>8</th>\n",
       "      <td>1988.0</td>\n",
       "      <td>15</td>\n",
       "    </tr>\n",
       "    <tr>\n",
       "      <th>9</th>\n",
       "      <td>1989.0</td>\n",
       "      <td>17</td>\n",
       "    </tr>\n",
       "    <tr>\n",
       "      <th>10</th>\n",
       "      <td>1990.0</td>\n",
       "      <td>16</td>\n",
       "    </tr>\n",
       "    <tr>\n",
       "      <th>11</th>\n",
       "      <td>1991.0</td>\n",
       "      <td>41</td>\n",
       "    </tr>\n",
       "    <tr>\n",
       "      <th>12</th>\n",
       "      <td>1992.0</td>\n",
       "      <td>43</td>\n",
       "    </tr>\n",
       "    <tr>\n",
       "      <th>13</th>\n",
       "      <td>1993.0</td>\n",
       "      <td>60</td>\n",
       "    </tr>\n",
       "    <tr>\n",
       "      <th>14</th>\n",
       "      <td>1994.0</td>\n",
       "      <td>121</td>\n",
       "    </tr>\n",
       "    <tr>\n",
       "      <th>15</th>\n",
       "      <td>1995.0</td>\n",
       "      <td>219</td>\n",
       "    </tr>\n",
       "    <tr>\n",
       "      <th>16</th>\n",
       "      <td>1996.0</td>\n",
       "      <td>263</td>\n",
       "    </tr>\n",
       "    <tr>\n",
       "      <th>17</th>\n",
       "      <td>1997.0</td>\n",
       "      <td>289</td>\n",
       "    </tr>\n",
       "    <tr>\n",
       "      <th>18</th>\n",
       "      <td>1998.0</td>\n",
       "      <td>379</td>\n",
       "    </tr>\n",
       "    <tr>\n",
       "      <th>19</th>\n",
       "      <td>1999.0</td>\n",
       "      <td>338</td>\n",
       "    </tr>\n",
       "    <tr>\n",
       "      <th>20</th>\n",
       "      <td>2000.0</td>\n",
       "      <td>350</td>\n",
       "    </tr>\n",
       "    <tr>\n",
       "      <th>21</th>\n",
       "      <td>2001.0</td>\n",
       "      <td>482</td>\n",
       "    </tr>\n",
       "    <tr>\n",
       "      <th>22</th>\n",
       "      <td>2002.0</td>\n",
       "      <td>829</td>\n",
       "    </tr>\n",
       "    <tr>\n",
       "      <th>23</th>\n",
       "      <td>2003.0</td>\n",
       "      <td>775</td>\n",
       "    </tr>\n",
       "    <tr>\n",
       "      <th>24</th>\n",
       "      <td>2004.0</td>\n",
       "      <td>762</td>\n",
       "    </tr>\n",
       "    <tr>\n",
       "      <th>25</th>\n",
       "      <td>2005.0</td>\n",
       "      <td>939</td>\n",
       "    </tr>\n",
       "    <tr>\n",
       "      <th>26</th>\n",
       "      <td>2006.0</td>\n",
       "      <td>1006</td>\n",
       "    </tr>\n",
       "    <tr>\n",
       "      <th>27</th>\n",
       "      <td>2007.0</td>\n",
       "      <td>1197</td>\n",
       "    </tr>\n",
       "    <tr>\n",
       "      <th>28</th>\n",
       "      <td>2008.0</td>\n",
       "      <td>1427</td>\n",
       "    </tr>\n",
       "    <tr>\n",
       "      <th>29</th>\n",
       "      <td>2009.0</td>\n",
       "      <td>1426</td>\n",
       "    </tr>\n",
       "    <tr>\n",
       "      <th>30</th>\n",
       "      <td>2010.0</td>\n",
       "      <td>1255</td>\n",
       "    </tr>\n",
       "    <tr>\n",
       "      <th>31</th>\n",
       "      <td>2011.0</td>\n",
       "      <td>1136</td>\n",
       "    </tr>\n",
       "    <tr>\n",
       "      <th>32</th>\n",
       "      <td>2012.0</td>\n",
       "      <td>653</td>\n",
       "    </tr>\n",
       "    <tr>\n",
       "      <th>33</th>\n",
       "      <td>2013.0</td>\n",
       "      <td>544</td>\n",
       "    </tr>\n",
       "    <tr>\n",
       "      <th>34</th>\n",
       "      <td>2014.0</td>\n",
       "      <td>581</td>\n",
       "    </tr>\n",
       "    <tr>\n",
       "      <th>35</th>\n",
       "      <td>2015.0</td>\n",
       "      <td>606</td>\n",
       "    </tr>\n",
       "    <tr>\n",
       "      <th>36</th>\n",
       "      <td>2016.0</td>\n",
       "      <td>502</td>\n",
       "    </tr>\n",
       "  </tbody>\n",
       "</table>\n",
       "</div>"
      ],
      "text/plain": [
       "    year_of_release  Juegos_lanzados_por_año\n",
       "0            1980.0                        9\n",
       "1            1981.0                       46\n",
       "2            1982.0                       36\n",
       "3            1983.0                       17\n",
       "4            1984.0                       14\n",
       "5            1985.0                       14\n",
       "6            1986.0                       21\n",
       "7            1987.0                       16\n",
       "8            1988.0                       15\n",
       "9            1989.0                       17\n",
       "10           1990.0                       16\n",
       "11           1991.0                       41\n",
       "12           1992.0                       43\n",
       "13           1993.0                       60\n",
       "14           1994.0                      121\n",
       "15           1995.0                      219\n",
       "16           1996.0                      263\n",
       "17           1997.0                      289\n",
       "18           1998.0                      379\n",
       "19           1999.0                      338\n",
       "20           2000.0                      350\n",
       "21           2001.0                      482\n",
       "22           2002.0                      829\n",
       "23           2003.0                      775\n",
       "24           2004.0                      762\n",
       "25           2005.0                      939\n",
       "26           2006.0                     1006\n",
       "27           2007.0                     1197\n",
       "28           2008.0                     1427\n",
       "29           2009.0                     1426\n",
       "30           2010.0                     1255\n",
       "31           2011.0                     1136\n",
       "32           2012.0                      653\n",
       "33           2013.0                      544\n",
       "34           2014.0                      581\n",
       "35           2015.0                      606\n",
       "36           2016.0                      502"
      ]
     },
     "execution_count": 12,
     "metadata": {},
     "output_type": "execute_result"
    }
   ],
   "source": [
    "juegos_por_año= juegos.groupby('year_of_release')['name'].count().reset_index()\n",
    "juegos_por_año= juegos_por_año.rename(columns={\"name\":\"Juegos_lanzados_por_año\"})\n",
    "juegos_por_año"
   ]
  },
  {
   "cell_type": "markdown",
   "metadata": {
    "id": "YvQF8_bEtlkc"
   },
   "source": [
    "3.2 Visualizar el comportamiento de lanzamiento de videojuegos por cada periodo"
   ]
  },
  {
   "cell_type": "code",
   "execution_count": 13,
   "metadata": {
    "colab": {
     "base_uri": "https://localhost:8080/",
     "height": 493
    },
    "id": "eFsyehIp0jo8",
    "outputId": "12846d80-44bf-46fa-80ae-47d829547a1f"
   },
   "outputs": [
    {
     "data": {
      "image/png": "[encoded data removed]",
      "text/plain": [
       "<Figure size 640x480 with 1 Axes>"
      ]
     },
     "metadata": {},
     "output_type": "display_data"
    }
   ],
   "source": [
    "juegos_por_año.plot(x='year_of_release',\n",
    "        y='Juegos_lanzados_por_año',\n",
    "        legend=False,\n",
    "        title='Cantidade de juegos lanzados por cada periodo',\n",
    "        xlabel='Anio',\n",
    "        ylabel='Cantidad de videojuegos',\n",
    "        rot=45)\n",
    "\n",
    "plt.show()"
   ]
  },
  {
   "cell_type": "markdown",
   "metadata": {},
   "source": [
    "<div class=\"alert alert-block alert-success\">\n",
    "<b>Comentario del revisor:</b> <a class=\"tocSkip\"></a>\n",
    "    \n",
    "Exelente trabajo con el desarrollo de la gráfica, nos ayuda a entender el comportamiento del mercado de videojuegos en el tiempo\n",
    "\n"
   ]
  },
  {
   "cell_type": "markdown",
   "metadata": {
    "id": "1oVlMIzOSWjL"
   },
   "source": [
    "***Podemos observar que en el periodo de 1980 a 1992 se mantienen constante y en este punto empieza un orden acendente hasta llegar a su punto maximo en el año 2009 manteniendose en el 2010 despues de esto podemos observar una tendencia a la baja drasticamente hasta el periodo 2016***"
   ]
  },
  {
   "cell_type": "markdown",
   "metadata": {
    "id": "3sOx0Vtc412G"
   },
   "source": [
    "3.3 Observa cómo varían las ventas de una plataforma a otra"
   ]
  },
  {
   "cell_type": "code",
   "execution_count": 14,
   "metadata": {
    "colab": {
     "base_uri": "https://localhost:8080/"
    },
    "id": "0BIMFbuk3lnj",
    "outputId": "f03f7372-de30-45c1-81f2-698a7a9065e6"
   },
   "outputs": [
    {
     "name": "stdout",
     "output_type": "stream",
     "text": [
      "plataformas con mayores ventas totales\n",
      "   platform  ventas_total_regiones\n",
      "16      PS2                1233.56\n",
      "28     X360                 961.24\n",
      "17      PS3                 931.34\n",
      "26      Wii                 891.18\n",
      "4        DS                 802.78\n",
      "\n",
      "plataformas con menores ventas totales\n",
      "   platform  ventas_total_regiones\n",
      "25       WS                   1.42\n",
      "24     TG16                   0.16\n",
      "1       3DO                   0.10\n",
      "9        GG                   0.04\n",
      "14     PCFX                   0.03\n"
     ]
    }
   ],
   "source": [
    "#Elige las plataformas con las mayores y menores ventas totales\n",
    "plat_mayores_ventas=juegos.groupby(['platform','year_of_release'])['ventas_total_regiones'].sum().reset_index()\n",
    "plat_mayores_ventas\n",
    "top5_mayores_ventas= plat_mayores_ventas.groupby('platform')['ventas_total_regiones'].sum().reset_index().sort_values('ventas_total_regiones',ascending=False).head(5)\n",
    "print(\"plataformas con mayores ventas totales\")\n",
    "print(top5_mayores_ventas)\n",
    "print()\n",
    "print(\"plataformas con menores ventas totales\")\n",
    "top5_peores_ventas = plat_mayores_ventas.groupby('platform')['ventas_total_regiones'].sum().reset_index().sort_values('ventas_total_regiones',ascending=False).tail(5)\n",
    "print(top5_peores_ventas)"
   ]
  },
  {
   "cell_type": "markdown",
   "metadata": {
    "id": "V_bxOr35Zsw8"
   },
   "source": [
    "***Podemos observar como PS2 es sin lugar a duda la mejor plataforma en la historia ya que supera ampliamente a sus perseguidores inmediatos mientras que la diferebcia con las platformas de menor ventas es abismal sin lugar a dudas son plataformas que marcaron el inicio de la era de los videojuegos pero talvez el echo de que la tecnologia no se encontraba globalizada no permitio un mayor impacto en las ventas***"
   ]
  },
  {
   "cell_type": "markdown",
   "metadata": {
    "id": "Aq5D9gW0t5Wm"
   },
   "source": [
    "3.4 Cual es la distribucion de ventas basada en los datos de cada año de las mejores plataformas?"
   ]
  },
  {
   "cell_type": "code",
   "execution_count": 15,
   "metadata": {
    "colab": {
     "base_uri": "https://localhost:8080/",
     "height": 257
    },
    "id": "O9x1YxEl9Aej",
    "outputId": "151a144c-2f19-47cc-d225-6e20af3d6a29"
   },
   "outputs": [
    {
     "data": {
      "text/html": [
       "<div>\n",
       "<style scoped>\n",
       "    .dataframe tbody tr th:only-of-type {\n",
       "        vertical-align: middle;\n",
       "    }\n",
       "\n",
       "    .dataframe tbody tr th {\n",
       "        vertical-align: top;\n",
       "    }\n",
       "\n",
       "    .dataframe thead th {\n",
       "        text-align: right;\n",
       "    }\n",
       "</style>\n",
       "<table border=\"1\" class=\"dataframe\">\n",
       "  <thead>\n",
       "    <tr style=\"text-align: right;\">\n",
       "      <th>periodos_de_ventas</th>\n",
       "      <th>1985.0</th>\n",
       "      <th>2000.0</th>\n",
       "      <th>2001.0</th>\n",
       "      <th>2002.0</th>\n",
       "      <th>2003.0</th>\n",
       "      <th>2004.0</th>\n",
       "      <th>2005.0</th>\n",
       "      <th>2006.0</th>\n",
       "      <th>2007.0</th>\n",
       "      <th>2008.0</th>\n",
       "      <th>2009.0</th>\n",
       "      <th>2010.0</th>\n",
       "      <th>2011.0</th>\n",
       "      <th>2012.0</th>\n",
       "      <th>2013.0</th>\n",
       "      <th>2014.0</th>\n",
       "      <th>2015.0</th>\n",
       "      <th>2016.0</th>\n",
       "    </tr>\n",
       "    <tr>\n",
       "      <th>platform</th>\n",
       "      <th></th>\n",
       "      <th></th>\n",
       "      <th></th>\n",
       "      <th></th>\n",
       "      <th></th>\n",
       "      <th></th>\n",
       "      <th></th>\n",
       "      <th></th>\n",
       "      <th></th>\n",
       "      <th></th>\n",
       "      <th></th>\n",
       "      <th></th>\n",
       "      <th></th>\n",
       "      <th></th>\n",
       "      <th></th>\n",
       "      <th></th>\n",
       "      <th></th>\n",
       "      <th></th>\n",
       "    </tr>\n",
       "  </thead>\n",
       "  <tbody>\n",
       "    <tr>\n",
       "      <th>DS</th>\n",
       "      <td>0.02</td>\n",
       "      <td>0.00</td>\n",
       "      <td>0.00</td>\n",
       "      <td>0.00</td>\n",
       "      <td>0.00</td>\n",
       "      <td>17.27</td>\n",
       "      <td>130.14</td>\n",
       "      <td>119.81</td>\n",
       "      <td>146.94</td>\n",
       "      <td>145.31</td>\n",
       "      <td>119.54</td>\n",
       "      <td>85.02</td>\n",
       "      <td>26.18</td>\n",
       "      <td>11.01</td>\n",
       "      <td>1.54</td>\n",
       "      <td>0.00</td>\n",
       "      <td>0.00</td>\n",
       "      <td>0.00</td>\n",
       "    </tr>\n",
       "    <tr>\n",
       "      <th>PS2</th>\n",
       "      <td>0.00</td>\n",
       "      <td>39.17</td>\n",
       "      <td>166.43</td>\n",
       "      <td>205.38</td>\n",
       "      <td>184.31</td>\n",
       "      <td>211.81</td>\n",
       "      <td>160.66</td>\n",
       "      <td>103.42</td>\n",
       "      <td>75.99</td>\n",
       "      <td>53.90</td>\n",
       "      <td>26.40</td>\n",
       "      <td>5.64</td>\n",
       "      <td>0.45</td>\n",
       "      <td>0.00</td>\n",
       "      <td>0.00</td>\n",
       "      <td>0.00</td>\n",
       "      <td>0.00</td>\n",
       "      <td>0.00</td>\n",
       "    </tr>\n",
       "    <tr>\n",
       "      <th>PS3</th>\n",
       "      <td>0.00</td>\n",
       "      <td>0.00</td>\n",
       "      <td>0.00</td>\n",
       "      <td>0.00</td>\n",
       "      <td>0.00</td>\n",
       "      <td>0.00</td>\n",
       "      <td>0.00</td>\n",
       "      <td>20.96</td>\n",
       "      <td>73.19</td>\n",
       "      <td>118.52</td>\n",
       "      <td>130.93</td>\n",
       "      <td>142.17</td>\n",
       "      <td>156.78</td>\n",
       "      <td>107.36</td>\n",
       "      <td>113.25</td>\n",
       "      <td>47.76</td>\n",
       "      <td>16.82</td>\n",
       "      <td>3.60</td>\n",
       "    </tr>\n",
       "    <tr>\n",
       "      <th>Wii</th>\n",
       "      <td>0.00</td>\n",
       "      <td>0.00</td>\n",
       "      <td>0.00</td>\n",
       "      <td>0.00</td>\n",
       "      <td>0.00</td>\n",
       "      <td>0.00</td>\n",
       "      <td>0.00</td>\n",
       "      <td>137.15</td>\n",
       "      <td>152.77</td>\n",
       "      <td>171.32</td>\n",
       "      <td>206.97</td>\n",
       "      <td>127.95</td>\n",
       "      <td>59.65</td>\n",
       "      <td>21.71</td>\n",
       "      <td>8.59</td>\n",
       "      <td>3.75</td>\n",
       "      <td>1.14</td>\n",
       "      <td>0.18</td>\n",
       "    </tr>\n",
       "    <tr>\n",
       "      <th>X360</th>\n",
       "      <td>0.00</td>\n",
       "      <td>0.00</td>\n",
       "      <td>0.00</td>\n",
       "      <td>0.00</td>\n",
       "      <td>0.00</td>\n",
       "      <td>0.00</td>\n",
       "      <td>8.25</td>\n",
       "      <td>51.62</td>\n",
       "      <td>95.41</td>\n",
       "      <td>135.26</td>\n",
       "      <td>120.29</td>\n",
       "      <td>170.03</td>\n",
       "      <td>143.84</td>\n",
       "      <td>99.74</td>\n",
       "      <td>88.58</td>\n",
       "      <td>34.74</td>\n",
       "      <td>11.96</td>\n",
       "      <td>1.52</td>\n",
       "    </tr>\n",
       "  </tbody>\n",
       "</table>\n",
       "</div>"
      ],
      "text/plain": [
       "periodos_de_ventas  1985.0  2000.0  2001.0  2002.0  2003.0  2004.0  2005.0  \\\n",
       "platform                                                                     \n",
       "DS                    0.02    0.00    0.00    0.00    0.00   17.27  130.14   \n",
       "PS2                   0.00   39.17  166.43  205.38  184.31  211.81  160.66   \n",
       "PS3                   0.00    0.00    0.00    0.00    0.00    0.00    0.00   \n",
       "Wii                   0.00    0.00    0.00    0.00    0.00    0.00    0.00   \n",
       "X360                  0.00    0.00    0.00    0.00    0.00    0.00    8.25   \n",
       "\n",
       "periodos_de_ventas  2006.0  2007.0  2008.0  2009.0  2010.0  2011.0  2012.0  \\\n",
       "platform                                                                     \n",
       "DS                  119.81  146.94  145.31  119.54   85.02   26.18   11.01   \n",
       "PS2                 103.42   75.99   53.90   26.40    5.64    0.45    0.00   \n",
       "PS3                  20.96   73.19  118.52  130.93  142.17  156.78  107.36   \n",
       "Wii                 137.15  152.77  171.32  206.97  127.95   59.65   21.71   \n",
       "X360                 51.62   95.41  135.26  120.29  170.03  143.84   99.74   \n",
       "\n",
       "periodos_de_ventas  2013.0  2014.0  2015.0  2016.0  \n",
       "platform                                            \n",
       "DS                    1.54    0.00    0.00    0.00  \n",
       "PS2                   0.00    0.00    0.00    0.00  \n",
       "PS3                 113.25   47.76   16.82    3.60  \n",
       "Wii                   8.59    3.75    1.14    0.18  \n",
       "X360                 88.58   34.74   11.96    1.52  "
      ]
     },
     "execution_count": 15,
     "metadata": {},
     "output_type": "execute_result"
    }
   ],
   "source": [
    "num1=[\"PS2\",\"X360\",\"Wii\",\"PS3\",\"DS\"]\n",
    "juegos1=juegos[juegos['platform'].isin(num1)]\n",
    "\n",
    "distribucion_por_año=juegos1.groupby(['year_of_release','platform'])['ventas_total_regiones'].sum().reset_index()\n",
    "distribucion_por_año=pd.DataFrame(distribucion_por_año)\n",
    "distribucion_por_año=distribucion_por_año.rename(columns={\"year_of_release\":\"periodos_de_ventas\"})\n",
    "\n",
    "distribucion_pivot=distribucion_por_año.pivot_table(index=\"platform\",columns= \"periodos_de_ventas\",values=\"ventas_total_regiones\")\n",
    "distribucion_pivot=distribucion_pivot.rename(columns={\"year_of_release\":\"periodos de ventas\"})\n",
    "distribucion_pivot1=distribucion_pivot.fillna(0)\n",
    "distribucion_pivot1\n"
   ]
  },
  {
   "cell_type": "markdown",
   "metadata": {
    "id": "Vo6TKXMXejAM"
   },
   "source": [
    "***En este analisis podemos observar como existen plataformas como DS y PS2 que desaparecieron despues de un lapso de tiempo en el mercado  y como PS3, Wii y X360 aparecieron y se encuentran actualemnte en el mercado.***\n",
    "\n",
    "***En la siguiente fase de nuestro analisis veremos cuando apareceiron las plataformas y cual es el promedio de vida de cada una y de todas en general.***"
   ]
  },
  {
   "cell_type": "markdown",
   "metadata": {
    "id": "cMNyV5wZuGtW"
   },
   "source": [
    "3.5.- Calcular el primer año de  lanzamiento y el ultimo por cada una de las plataformas"
   ]
  },
  {
   "cell_type": "code",
   "execution_count": 16,
   "metadata": {
    "colab": {
     "base_uri": "https://localhost:8080/",
     "height": 1000
    },
    "id": "iDvI5hsPuMDO",
    "outputId": "10496923-4d43-4ce9-8969-bb3f6e090b00"
   },
   "outputs": [
    {
     "data": {
      "text/html": [
       "<div>\n",
       "<style scoped>\n",
       "    .dataframe tbody tr th:only-of-type {\n",
       "        vertical-align: middle;\n",
       "    }\n",
       "\n",
       "    .dataframe tbody tr th {\n",
       "        vertical-align: top;\n",
       "    }\n",
       "\n",
       "    .dataframe thead th {\n",
       "        text-align: right;\n",
       "    }\n",
       "</style>\n",
       "<table border=\"1\" class=\"dataframe\">\n",
       "  <thead>\n",
       "    <tr style=\"text-align: right;\">\n",
       "      <th></th>\n",
       "      <th>platform</th>\n",
       "      <th>primer_lanzamiento</th>\n",
       "      <th>ultimo_lanzamiento</th>\n",
       "    </tr>\n",
       "  </thead>\n",
       "  <tbody>\n",
       "    <tr>\n",
       "      <th>0</th>\n",
       "      <td>2600</td>\n",
       "      <td>1980.0</td>\n",
       "      <td>1989.0</td>\n",
       "    </tr>\n",
       "    <tr>\n",
       "      <th>1</th>\n",
       "      <td>3DO</td>\n",
       "      <td>1994.0</td>\n",
       "      <td>1995.0</td>\n",
       "    </tr>\n",
       "    <tr>\n",
       "      <th>2</th>\n",
       "      <td>3DS</td>\n",
       "      <td>2011.0</td>\n",
       "      <td>2016.0</td>\n",
       "    </tr>\n",
       "    <tr>\n",
       "      <th>3</th>\n",
       "      <td>DC</td>\n",
       "      <td>1998.0</td>\n",
       "      <td>2008.0</td>\n",
       "    </tr>\n",
       "    <tr>\n",
       "      <th>4</th>\n",
       "      <td>DS</td>\n",
       "      <td>1985.0</td>\n",
       "      <td>2013.0</td>\n",
       "    </tr>\n",
       "    <tr>\n",
       "      <th>5</th>\n",
       "      <td>GB</td>\n",
       "      <td>1988.0</td>\n",
       "      <td>2001.0</td>\n",
       "    </tr>\n",
       "    <tr>\n",
       "      <th>6</th>\n",
       "      <td>GBA</td>\n",
       "      <td>2000.0</td>\n",
       "      <td>2007.0</td>\n",
       "    </tr>\n",
       "    <tr>\n",
       "      <th>7</th>\n",
       "      <td>GC</td>\n",
       "      <td>2001.0</td>\n",
       "      <td>2007.0</td>\n",
       "    </tr>\n",
       "    <tr>\n",
       "      <th>8</th>\n",
       "      <td>GEN</td>\n",
       "      <td>1990.0</td>\n",
       "      <td>1994.0</td>\n",
       "    </tr>\n",
       "    <tr>\n",
       "      <th>9</th>\n",
       "      <td>GG</td>\n",
       "      <td>1992.0</td>\n",
       "      <td>1992.0</td>\n",
       "    </tr>\n",
       "    <tr>\n",
       "      <th>10</th>\n",
       "      <td>N64</td>\n",
       "      <td>1996.0</td>\n",
       "      <td>2002.0</td>\n",
       "    </tr>\n",
       "    <tr>\n",
       "      <th>11</th>\n",
       "      <td>NES</td>\n",
       "      <td>1983.0</td>\n",
       "      <td>1994.0</td>\n",
       "    </tr>\n",
       "    <tr>\n",
       "      <th>12</th>\n",
       "      <td>NG</td>\n",
       "      <td>1993.0</td>\n",
       "      <td>1996.0</td>\n",
       "    </tr>\n",
       "    <tr>\n",
       "      <th>13</th>\n",
       "      <td>PC</td>\n",
       "      <td>1985.0</td>\n",
       "      <td>2016.0</td>\n",
       "    </tr>\n",
       "    <tr>\n",
       "      <th>14</th>\n",
       "      <td>PCFX</td>\n",
       "      <td>1996.0</td>\n",
       "      <td>1996.0</td>\n",
       "    </tr>\n",
       "    <tr>\n",
       "      <th>15</th>\n",
       "      <td>PS</td>\n",
       "      <td>1994.0</td>\n",
       "      <td>2003.0</td>\n",
       "    </tr>\n",
       "    <tr>\n",
       "      <th>16</th>\n",
       "      <td>PS2</td>\n",
       "      <td>2000.0</td>\n",
       "      <td>2011.0</td>\n",
       "    </tr>\n",
       "    <tr>\n",
       "      <th>17</th>\n",
       "      <td>PS3</td>\n",
       "      <td>2006.0</td>\n",
       "      <td>2016.0</td>\n",
       "    </tr>\n",
       "    <tr>\n",
       "      <th>18</th>\n",
       "      <td>PS4</td>\n",
       "      <td>2013.0</td>\n",
       "      <td>2016.0</td>\n",
       "    </tr>\n",
       "    <tr>\n",
       "      <th>19</th>\n",
       "      <td>PSP</td>\n",
       "      <td>2004.0</td>\n",
       "      <td>2015.0</td>\n",
       "    </tr>\n",
       "    <tr>\n",
       "      <th>20</th>\n",
       "      <td>PSV</td>\n",
       "      <td>2011.0</td>\n",
       "      <td>2016.0</td>\n",
       "    </tr>\n",
       "    <tr>\n",
       "      <th>21</th>\n",
       "      <td>SAT</td>\n",
       "      <td>1994.0</td>\n",
       "      <td>1999.0</td>\n",
       "    </tr>\n",
       "    <tr>\n",
       "      <th>22</th>\n",
       "      <td>SCD</td>\n",
       "      <td>1993.0</td>\n",
       "      <td>1994.0</td>\n",
       "    </tr>\n",
       "    <tr>\n",
       "      <th>23</th>\n",
       "      <td>SNES</td>\n",
       "      <td>1990.0</td>\n",
       "      <td>1999.0</td>\n",
       "    </tr>\n",
       "    <tr>\n",
       "      <th>24</th>\n",
       "      <td>TG16</td>\n",
       "      <td>1995.0</td>\n",
       "      <td>1995.0</td>\n",
       "    </tr>\n",
       "    <tr>\n",
       "      <th>25</th>\n",
       "      <td>WS</td>\n",
       "      <td>1999.0</td>\n",
       "      <td>2001.0</td>\n",
       "    </tr>\n",
       "    <tr>\n",
       "      <th>26</th>\n",
       "      <td>Wii</td>\n",
       "      <td>2006.0</td>\n",
       "      <td>2016.0</td>\n",
       "    </tr>\n",
       "    <tr>\n",
       "      <th>27</th>\n",
       "      <td>WiiU</td>\n",
       "      <td>2012.0</td>\n",
       "      <td>2016.0</td>\n",
       "    </tr>\n",
       "    <tr>\n",
       "      <th>28</th>\n",
       "      <td>X360</td>\n",
       "      <td>2005.0</td>\n",
       "      <td>2016.0</td>\n",
       "    </tr>\n",
       "    <tr>\n",
       "      <th>29</th>\n",
       "      <td>XB</td>\n",
       "      <td>2000.0</td>\n",
       "      <td>2008.0</td>\n",
       "    </tr>\n",
       "    <tr>\n",
       "      <th>30</th>\n",
       "      <td>XOne</td>\n",
       "      <td>2013.0</td>\n",
       "      <td>2016.0</td>\n",
       "    </tr>\n",
       "  </tbody>\n",
       "</table>\n",
       "</div>"
      ],
      "text/plain": [
       "   platform  primer_lanzamiento  ultimo_lanzamiento\n",
       "0      2600              1980.0              1989.0\n",
       "1       3DO              1994.0              1995.0\n",
       "2       3DS              2011.0              2016.0\n",
       "3        DC              1998.0              2008.0\n",
       "4        DS              1985.0              2013.0\n",
       "5        GB              1988.0              2001.0\n",
       "6       GBA              2000.0              2007.0\n",
       "7        GC              2001.0              2007.0\n",
       "8       GEN              1990.0              1994.0\n",
       "9        GG              1992.0              1992.0\n",
       "10      N64              1996.0              2002.0\n",
       "11      NES              1983.0              1994.0\n",
       "12       NG              1993.0              1996.0\n",
       "13       PC              1985.0              2016.0\n",
       "14     PCFX              1996.0              1996.0\n",
       "15       PS              1994.0              2003.0\n",
       "16      PS2              2000.0              2011.0\n",
       "17      PS3              2006.0              2016.0\n",
       "18      PS4              2013.0              2016.0\n",
       "19      PSP              2004.0              2015.0\n",
       "20      PSV              2011.0              2016.0\n",
       "21      SAT              1994.0              1999.0\n",
       "22      SCD              1993.0              1994.0\n",
       "23     SNES              1990.0              1999.0\n",
       "24     TG16              1995.0              1995.0\n",
       "25       WS              1999.0              2001.0\n",
       "26      Wii              2006.0              2016.0\n",
       "27     WiiU              2012.0              2016.0\n",
       "28     X360              2005.0              2016.0\n",
       "29       XB              2000.0              2008.0\n",
       "30     XOne              2013.0              2016.0"
      ]
     },
     "execution_count": 16,
     "metadata": {},
     "output_type": "execute_result"
    }
   ],
   "source": [
    "inicio_final_plataformas=juegos.groupby('platform')['year_of_release'].agg(['min','max']).reset_index()\n",
    "inicio_final_plataformas=inicio_final_plataformas.rename(columns={'min':'primer_lanzamiento','max':\"ultimo_lanzamiento\"})\n",
    "inicio_final_plataformas"
   ]
  },
  {
   "cell_type": "markdown",
   "metadata": {
    "id": "XvhZfyvbLvVv"
   },
   "source": [
    "3.6.-Calcula cuantos años se mantuvieron en el mercado cada una de las plataformas"
   ]
  },
  {
   "cell_type": "code",
   "execution_count": 17,
   "metadata": {
    "colab": {
     "base_uri": "https://localhost:8080/",
     "height": 1000
    },
    "id": "qTVU9nGA1YEo",
    "outputId": "11d86e43-1dcf-453e-83ac-32e0b9365c43"
   },
   "outputs": [
    {
     "data": {
      "text/html": [
       "<div>\n",
       "<style scoped>\n",
       "    .dataframe tbody tr th:only-of-type {\n",
       "        vertical-align: middle;\n",
       "    }\n",
       "\n",
       "    .dataframe tbody tr th {\n",
       "        vertical-align: top;\n",
       "    }\n",
       "\n",
       "    .dataframe thead th {\n",
       "        text-align: right;\n",
       "    }\n",
       "</style>\n",
       "<table border=\"1\" class=\"dataframe\">\n",
       "  <thead>\n",
       "    <tr style=\"text-align: right;\">\n",
       "      <th></th>\n",
       "      <th>platform</th>\n",
       "      <th>primer_lanzamiento</th>\n",
       "      <th>ultimo_lanzamiento</th>\n",
       "      <th>años_en_el_mercado</th>\n",
       "    </tr>\n",
       "  </thead>\n",
       "  <tbody>\n",
       "    <tr>\n",
       "      <th>0</th>\n",
       "      <td>2600</td>\n",
       "      <td>1980.0</td>\n",
       "      <td>1989.0</td>\n",
       "      <td>9.0</td>\n",
       "    </tr>\n",
       "    <tr>\n",
       "      <th>1</th>\n",
       "      <td>3DO</td>\n",
       "      <td>1994.0</td>\n",
       "      <td>1995.0</td>\n",
       "      <td>1.0</td>\n",
       "    </tr>\n",
       "    <tr>\n",
       "      <th>2</th>\n",
       "      <td>3DS</td>\n",
       "      <td>2011.0</td>\n",
       "      <td>2016.0</td>\n",
       "      <td>5.0</td>\n",
       "    </tr>\n",
       "    <tr>\n",
       "      <th>3</th>\n",
       "      <td>DC</td>\n",
       "      <td>1998.0</td>\n",
       "      <td>2008.0</td>\n",
       "      <td>10.0</td>\n",
       "    </tr>\n",
       "    <tr>\n",
       "      <th>4</th>\n",
       "      <td>DS</td>\n",
       "      <td>1985.0</td>\n",
       "      <td>2013.0</td>\n",
       "      <td>28.0</td>\n",
       "    </tr>\n",
       "    <tr>\n",
       "      <th>5</th>\n",
       "      <td>GB</td>\n",
       "      <td>1988.0</td>\n",
       "      <td>2001.0</td>\n",
       "      <td>13.0</td>\n",
       "    </tr>\n",
       "    <tr>\n",
       "      <th>6</th>\n",
       "      <td>GBA</td>\n",
       "      <td>2000.0</td>\n",
       "      <td>2007.0</td>\n",
       "      <td>7.0</td>\n",
       "    </tr>\n",
       "    <tr>\n",
       "      <th>7</th>\n",
       "      <td>GC</td>\n",
       "      <td>2001.0</td>\n",
       "      <td>2007.0</td>\n",
       "      <td>6.0</td>\n",
       "    </tr>\n",
       "    <tr>\n",
       "      <th>8</th>\n",
       "      <td>GEN</td>\n",
       "      <td>1990.0</td>\n",
       "      <td>1994.0</td>\n",
       "      <td>4.0</td>\n",
       "    </tr>\n",
       "    <tr>\n",
       "      <th>9</th>\n",
       "      <td>GG</td>\n",
       "      <td>1992.0</td>\n",
       "      <td>1992.0</td>\n",
       "      <td>0.0</td>\n",
       "    </tr>\n",
       "    <tr>\n",
       "      <th>10</th>\n",
       "      <td>N64</td>\n",
       "      <td>1996.0</td>\n",
       "      <td>2002.0</td>\n",
       "      <td>6.0</td>\n",
       "    </tr>\n",
       "    <tr>\n",
       "      <th>11</th>\n",
       "      <td>NES</td>\n",
       "      <td>1983.0</td>\n",
       "      <td>1994.0</td>\n",
       "      <td>11.0</td>\n",
       "    </tr>\n",
       "    <tr>\n",
       "      <th>12</th>\n",
       "      <td>NG</td>\n",
       "      <td>1993.0</td>\n",
       "      <td>1996.0</td>\n",
       "      <td>3.0</td>\n",
       "    </tr>\n",
       "    <tr>\n",
       "      <th>13</th>\n",
       "      <td>PC</td>\n",
       "      <td>1985.0</td>\n",
       "      <td>2016.0</td>\n",
       "      <td>31.0</td>\n",
       "    </tr>\n",
       "    <tr>\n",
       "      <th>14</th>\n",
       "      <td>PCFX</td>\n",
       "      <td>1996.0</td>\n",
       "      <td>1996.0</td>\n",
       "      <td>0.0</td>\n",
       "    </tr>\n",
       "    <tr>\n",
       "      <th>15</th>\n",
       "      <td>PS</td>\n",
       "      <td>1994.0</td>\n",
       "      <td>2003.0</td>\n",
       "      <td>9.0</td>\n",
       "    </tr>\n",
       "    <tr>\n",
       "      <th>16</th>\n",
       "      <td>PS2</td>\n",
       "      <td>2000.0</td>\n",
       "      <td>2011.0</td>\n",
       "      <td>11.0</td>\n",
       "    </tr>\n",
       "    <tr>\n",
       "      <th>17</th>\n",
       "      <td>PS3</td>\n",
       "      <td>2006.0</td>\n",
       "      <td>2016.0</td>\n",
       "      <td>10.0</td>\n",
       "    </tr>\n",
       "    <tr>\n",
       "      <th>18</th>\n",
       "      <td>PS4</td>\n",
       "      <td>2013.0</td>\n",
       "      <td>2016.0</td>\n",
       "      <td>3.0</td>\n",
       "    </tr>\n",
       "    <tr>\n",
       "      <th>19</th>\n",
       "      <td>PSP</td>\n",
       "      <td>2004.0</td>\n",
       "      <td>2015.0</td>\n",
       "      <td>11.0</td>\n",
       "    </tr>\n",
       "    <tr>\n",
       "      <th>20</th>\n",
       "      <td>PSV</td>\n",
       "      <td>2011.0</td>\n",
       "      <td>2016.0</td>\n",
       "      <td>5.0</td>\n",
       "    </tr>\n",
       "    <tr>\n",
       "      <th>21</th>\n",
       "      <td>SAT</td>\n",
       "      <td>1994.0</td>\n",
       "      <td>1999.0</td>\n",
       "      <td>5.0</td>\n",
       "    </tr>\n",
       "    <tr>\n",
       "      <th>22</th>\n",
       "      <td>SCD</td>\n",
       "      <td>1993.0</td>\n",
       "      <td>1994.0</td>\n",
       "      <td>1.0</td>\n",
       "    </tr>\n",
       "    <tr>\n",
       "      <th>23</th>\n",
       "      <td>SNES</td>\n",
       "      <td>1990.0</td>\n",
       "      <td>1999.0</td>\n",
       "      <td>9.0</td>\n",
       "    </tr>\n",
       "    <tr>\n",
       "      <th>24</th>\n",
       "      <td>TG16</td>\n",
       "      <td>1995.0</td>\n",
       "      <td>1995.0</td>\n",
       "      <td>0.0</td>\n",
       "    </tr>\n",
       "    <tr>\n",
       "      <th>25</th>\n",
       "      <td>WS</td>\n",
       "      <td>1999.0</td>\n",
       "      <td>2001.0</td>\n",
       "      <td>2.0</td>\n",
       "    </tr>\n",
       "    <tr>\n",
       "      <th>26</th>\n",
       "      <td>Wii</td>\n",
       "      <td>2006.0</td>\n",
       "      <td>2016.0</td>\n",
       "      <td>10.0</td>\n",
       "    </tr>\n",
       "    <tr>\n",
       "      <th>27</th>\n",
       "      <td>WiiU</td>\n",
       "      <td>2012.0</td>\n",
       "      <td>2016.0</td>\n",
       "      <td>4.0</td>\n",
       "    </tr>\n",
       "    <tr>\n",
       "      <th>28</th>\n",
       "      <td>X360</td>\n",
       "      <td>2005.0</td>\n",
       "      <td>2016.0</td>\n",
       "      <td>11.0</td>\n",
       "    </tr>\n",
       "    <tr>\n",
       "      <th>29</th>\n",
       "      <td>XB</td>\n",
       "      <td>2000.0</td>\n",
       "      <td>2008.0</td>\n",
       "      <td>8.0</td>\n",
       "    </tr>\n",
       "    <tr>\n",
       "      <th>30</th>\n",
       "      <td>XOne</td>\n",
       "      <td>2013.0</td>\n",
       "      <td>2016.0</td>\n",
       "      <td>3.0</td>\n",
       "    </tr>\n",
       "  </tbody>\n",
       "</table>\n",
       "</div>"
      ],
      "text/plain": [
       "   platform  primer_lanzamiento  ultimo_lanzamiento  años_en_el_mercado\n",
       "0      2600              1980.0              1989.0                 9.0\n",
       "1       3DO              1994.0              1995.0                 1.0\n",
       "2       3DS              2011.0              2016.0                 5.0\n",
       "3        DC              1998.0              2008.0                10.0\n",
       "4        DS              1985.0              2013.0                28.0\n",
       "5        GB              1988.0              2001.0                13.0\n",
       "6       GBA              2000.0              2007.0                 7.0\n",
       "7        GC              2001.0              2007.0                 6.0\n",
       "8       GEN              1990.0              1994.0                 4.0\n",
       "9        GG              1992.0              1992.0                 0.0\n",
       "10      N64              1996.0              2002.0                 6.0\n",
       "11      NES              1983.0              1994.0                11.0\n",
       "12       NG              1993.0              1996.0                 3.0\n",
       "13       PC              1985.0              2016.0                31.0\n",
       "14     PCFX              1996.0              1996.0                 0.0\n",
       "15       PS              1994.0              2003.0                 9.0\n",
       "16      PS2              2000.0              2011.0                11.0\n",
       "17      PS3              2006.0              2016.0                10.0\n",
       "18      PS4              2013.0              2016.0                 3.0\n",
       "19      PSP              2004.0              2015.0                11.0\n",
       "20      PSV              2011.0              2016.0                 5.0\n",
       "21      SAT              1994.0              1999.0                 5.0\n",
       "22      SCD              1993.0              1994.0                 1.0\n",
       "23     SNES              1990.0              1999.0                 9.0\n",
       "24     TG16              1995.0              1995.0                 0.0\n",
       "25       WS              1999.0              2001.0                 2.0\n",
       "26      Wii              2006.0              2016.0                10.0\n",
       "27     WiiU              2012.0              2016.0                 4.0\n",
       "28     X360              2005.0              2016.0                11.0\n",
       "29       XB              2000.0              2008.0                 8.0\n",
       "30     XOne              2013.0              2016.0                 3.0"
      ]
     },
     "execution_count": 17,
     "metadata": {},
     "output_type": "execute_result"
    }
   ],
   "source": [
    "inicio_final_plataformas['años_en_el_mercado']= (inicio_final_plataformas['ultimo_lanzamiento']-inicio_final_plataformas['primer_lanzamiento'])\n",
    "inicio_final_plataformas"
   ]
  },
  {
   "cell_type": "markdown",
   "metadata": {
    "id": "9Q2dfxnmMKn5"
   },
   "source": [
    "3.7.-Cual es el periodo minimo y el maximo que se han mantenido las plataformas en el mercado"
   ]
  },
  {
   "cell_type": "code",
   "execution_count": 18,
   "metadata": {
    "colab": {
     "base_uri": "https://localhost:8080/"
    },
    "id": "JqwRU3wXMXRb",
    "outputId": "42ec6eb8-b1e8-4b90-f74f-2f32c0e82804"
   },
   "outputs": [
    {
     "name": "stdout",
     "output_type": "stream",
     "text": [
      "La cantidad minima de años que se ha mantenido una plataforma en el mercado es de: 0.0 años\n",
      "La cantidad maxima de años que se ha mantenido una plataforma en el mercado es de: 31.0 años\n"
     ]
    }
   ],
   "source": [
    "print(f'La cantidad minima de años que se ha mantenido una plataforma en el mercado es de: '+str(inicio_final_plataformas['años_en_el_mercado'].min())+' años')\n",
    "print(f'La cantidad maxima de años que se ha mantenido una plataforma en el mercado es de: '+str(inicio_final_plataformas['años_en_el_mercado'].max())+' años')"
   ]
  },
  {
   "cell_type": "markdown",
   "metadata": {
    "id": "BfR0tSBfNsix"
   },
   "source": [
    "3.8.-Cual es tiempo promedio en el mercado de las plataformas?"
   ]
  },
  {
   "cell_type": "code",
   "execution_count": 19,
   "metadata": {
    "colab": {
     "base_uri": "https://localhost:8080/"
    },
    "id": "csryrXop4s0q",
    "outputId": "6c1f4b98-edb7-4cf3-9403-fb62b547dd7a"
   },
   "outputs": [
    {
     "name": "stdout",
     "output_type": "stream",
     "text": [
      "El promedio en el mercado de las plataformas es de 8 años\n"
     ]
    }
   ],
   "source": [
    "promedio_en_el_mercado=inicio_final_plataformas['años_en_el_mercado'].mean()\n",
    "promedio=round(promedio_en_el_mercado)\n",
    "print(f'El promedio en el mercado de las plataformas es de ' +str(promedio)+' años')"
   ]
  },
  {
   "cell_type": "markdown",
   "metadata": {
    "id": "In3tpbntExxc"
   },
   "source": [
    "3.9.- Que plataformas que solian ser y son pupulares"
   ]
  },
  {
   "cell_type": "code",
   "execution_count": 20,
   "metadata": {
    "colab": {
     "base_uri": "https://localhost:8080/",
     "height": 488
    },
    "id": "Q5FDSOthASne",
    "outputId": "912bb0a7-836a-4e41-cbf8-301fd873967d"
   },
   "outputs": [
    {
     "data": {
      "text/html": [
       "<div>\n",
       "<style scoped>\n",
       "    .dataframe tbody tr th:only-of-type {\n",
       "        vertical-align: middle;\n",
       "    }\n",
       "\n",
       "    .dataframe tbody tr th {\n",
       "        vertical-align: top;\n",
       "    }\n",
       "\n",
       "    .dataframe thead th {\n",
       "        text-align: right;\n",
       "    }\n",
       "</style>\n",
       "<table border=\"1\" class=\"dataframe\">\n",
       "  <thead>\n",
       "    <tr style=\"text-align: right;\">\n",
       "      <th></th>\n",
       "      <th>platform</th>\n",
       "      <th>primer_lanzamiento</th>\n",
       "      <th>ultimo_lanzamiento</th>\n",
       "      <th>años_en_el_mercado</th>\n",
       "    </tr>\n",
       "  </thead>\n",
       "  <tbody>\n",
       "    <tr>\n",
       "      <th>0</th>\n",
       "      <td>2600</td>\n",
       "      <td>1980.0</td>\n",
       "      <td>1989.0</td>\n",
       "      <td>9.0</td>\n",
       "    </tr>\n",
       "    <tr>\n",
       "      <th>11</th>\n",
       "      <td>NES</td>\n",
       "      <td>1983.0</td>\n",
       "      <td>1994.0</td>\n",
       "      <td>11.0</td>\n",
       "    </tr>\n",
       "    <tr>\n",
       "      <th>4</th>\n",
       "      <td>DS</td>\n",
       "      <td>1985.0</td>\n",
       "      <td>2013.0</td>\n",
       "      <td>28.0</td>\n",
       "    </tr>\n",
       "    <tr>\n",
       "      <th>13</th>\n",
       "      <td>PC</td>\n",
       "      <td>1985.0</td>\n",
       "      <td>2016.0</td>\n",
       "      <td>31.0</td>\n",
       "    </tr>\n",
       "    <tr>\n",
       "      <th>5</th>\n",
       "      <td>GB</td>\n",
       "      <td>1988.0</td>\n",
       "      <td>2001.0</td>\n",
       "      <td>13.0</td>\n",
       "    </tr>\n",
       "    <tr>\n",
       "      <th>23</th>\n",
       "      <td>SNES</td>\n",
       "      <td>1990.0</td>\n",
       "      <td>1999.0</td>\n",
       "      <td>9.0</td>\n",
       "    </tr>\n",
       "    <tr>\n",
       "      <th>15</th>\n",
       "      <td>PS</td>\n",
       "      <td>1994.0</td>\n",
       "      <td>2003.0</td>\n",
       "      <td>9.0</td>\n",
       "    </tr>\n",
       "    <tr>\n",
       "      <th>3</th>\n",
       "      <td>DC</td>\n",
       "      <td>1998.0</td>\n",
       "      <td>2008.0</td>\n",
       "      <td>10.0</td>\n",
       "    </tr>\n",
       "    <tr>\n",
       "      <th>16</th>\n",
       "      <td>PS2</td>\n",
       "      <td>2000.0</td>\n",
       "      <td>2011.0</td>\n",
       "      <td>11.0</td>\n",
       "    </tr>\n",
       "    <tr>\n",
       "      <th>29</th>\n",
       "      <td>XB</td>\n",
       "      <td>2000.0</td>\n",
       "      <td>2008.0</td>\n",
       "      <td>8.0</td>\n",
       "    </tr>\n",
       "    <tr>\n",
       "      <th>19</th>\n",
       "      <td>PSP</td>\n",
       "      <td>2004.0</td>\n",
       "      <td>2015.0</td>\n",
       "      <td>11.0</td>\n",
       "    </tr>\n",
       "    <tr>\n",
       "      <th>28</th>\n",
       "      <td>X360</td>\n",
       "      <td>2005.0</td>\n",
       "      <td>2016.0</td>\n",
       "      <td>11.0</td>\n",
       "    </tr>\n",
       "    <tr>\n",
       "      <th>17</th>\n",
       "      <td>PS3</td>\n",
       "      <td>2006.0</td>\n",
       "      <td>2016.0</td>\n",
       "      <td>10.0</td>\n",
       "    </tr>\n",
       "    <tr>\n",
       "      <th>26</th>\n",
       "      <td>Wii</td>\n",
       "      <td>2006.0</td>\n",
       "      <td>2016.0</td>\n",
       "      <td>10.0</td>\n",
       "    </tr>\n",
       "  </tbody>\n",
       "</table>\n",
       "</div>"
      ],
      "text/plain": [
       "   platform  primer_lanzamiento  ultimo_lanzamiento  años_en_el_mercado\n",
       "0      2600              1980.0              1989.0                 9.0\n",
       "11      NES              1983.0              1994.0                11.0\n",
       "4        DS              1985.0              2013.0                28.0\n",
       "13       PC              1985.0              2016.0                31.0\n",
       "5        GB              1988.0              2001.0                13.0\n",
       "23     SNES              1990.0              1999.0                 9.0\n",
       "15       PS              1994.0              2003.0                 9.0\n",
       "3        DC              1998.0              2008.0                10.0\n",
       "16      PS2              2000.0              2011.0                11.0\n",
       "29       XB              2000.0              2008.0                 8.0\n",
       "19      PSP              2004.0              2015.0                11.0\n",
       "28     X360              2005.0              2016.0                11.0\n",
       "17      PS3              2006.0              2016.0                10.0\n",
       "26      Wii              2006.0              2016.0                10.0"
      ]
     },
     "execution_count": 20,
     "metadata": {},
     "output_type": "execute_result"
    }
   ],
   "source": [
    "#Conciderando plataformas populares a aquellas que se han mantenido al menos el tiempo promedio en el mercado\n",
    "#calcular cuales son estas plataformas\n",
    "populares=inicio_final_plataformas[inicio_final_plataformas['años_en_el_mercado']>=promedio].sort_values('primer_lanzamiento')\n",
    "populares"
   ]
  },
  {
   "cell_type": "markdown",
   "metadata": {
    "id": "20yog3ypPb_x"
   },
   "source": [
    "3.10.- Cuales son las plataformas que solían ser populares pero que ahora no tienen ventas"
   ]
  },
  {
   "cell_type": "code",
   "execution_count": 21,
   "metadata": {
    "colab": {
     "base_uri": "https://localhost:8080/",
     "height": 363
    },
    "id": "MuyDw2O56vtz",
    "outputId": "9d836a35-e767-4f23-d60b-620b8d399352"
   },
   "outputs": [
    {
     "data": {
      "text/html": [
       "<div>\n",
       "<style scoped>\n",
       "    .dataframe tbody tr th:only-of-type {\n",
       "        vertical-align: middle;\n",
       "    }\n",
       "\n",
       "    .dataframe tbody tr th {\n",
       "        vertical-align: top;\n",
       "    }\n",
       "\n",
       "    .dataframe thead th {\n",
       "        text-align: right;\n",
       "    }\n",
       "</style>\n",
       "<table border=\"1\" class=\"dataframe\">\n",
       "  <thead>\n",
       "    <tr style=\"text-align: right;\">\n",
       "      <th></th>\n",
       "      <th>platform</th>\n",
       "      <th>primer_lanzamiento</th>\n",
       "      <th>ultimo_lanzamiento</th>\n",
       "      <th>años_en_el_mercado</th>\n",
       "    </tr>\n",
       "  </thead>\n",
       "  <tbody>\n",
       "    <tr>\n",
       "      <th>0</th>\n",
       "      <td>2600</td>\n",
       "      <td>1980.0</td>\n",
       "      <td>1989.0</td>\n",
       "      <td>9.0</td>\n",
       "    </tr>\n",
       "    <tr>\n",
       "      <th>11</th>\n",
       "      <td>NES</td>\n",
       "      <td>1983.0</td>\n",
       "      <td>1994.0</td>\n",
       "      <td>11.0</td>\n",
       "    </tr>\n",
       "    <tr>\n",
       "      <th>4</th>\n",
       "      <td>DS</td>\n",
       "      <td>1985.0</td>\n",
       "      <td>2013.0</td>\n",
       "      <td>28.0</td>\n",
       "    </tr>\n",
       "    <tr>\n",
       "      <th>5</th>\n",
       "      <td>GB</td>\n",
       "      <td>1988.0</td>\n",
       "      <td>2001.0</td>\n",
       "      <td>13.0</td>\n",
       "    </tr>\n",
       "    <tr>\n",
       "      <th>23</th>\n",
       "      <td>SNES</td>\n",
       "      <td>1990.0</td>\n",
       "      <td>1999.0</td>\n",
       "      <td>9.0</td>\n",
       "    </tr>\n",
       "    <tr>\n",
       "      <th>15</th>\n",
       "      <td>PS</td>\n",
       "      <td>1994.0</td>\n",
       "      <td>2003.0</td>\n",
       "      <td>9.0</td>\n",
       "    </tr>\n",
       "    <tr>\n",
       "      <th>3</th>\n",
       "      <td>DC</td>\n",
       "      <td>1998.0</td>\n",
       "      <td>2008.0</td>\n",
       "      <td>10.0</td>\n",
       "    </tr>\n",
       "    <tr>\n",
       "      <th>16</th>\n",
       "      <td>PS2</td>\n",
       "      <td>2000.0</td>\n",
       "      <td>2011.0</td>\n",
       "      <td>11.0</td>\n",
       "    </tr>\n",
       "    <tr>\n",
       "      <th>29</th>\n",
       "      <td>XB</td>\n",
       "      <td>2000.0</td>\n",
       "      <td>2008.0</td>\n",
       "      <td>8.0</td>\n",
       "    </tr>\n",
       "    <tr>\n",
       "      <th>19</th>\n",
       "      <td>PSP</td>\n",
       "      <td>2004.0</td>\n",
       "      <td>2015.0</td>\n",
       "      <td>11.0</td>\n",
       "    </tr>\n",
       "  </tbody>\n",
       "</table>\n",
       "</div>"
      ],
      "text/plain": [
       "   platform  primer_lanzamiento  ultimo_lanzamiento  años_en_el_mercado\n",
       "0      2600              1980.0              1989.0                 9.0\n",
       "11      NES              1983.0              1994.0                11.0\n",
       "4        DS              1985.0              2013.0                28.0\n",
       "5        GB              1988.0              2001.0                13.0\n",
       "23     SNES              1990.0              1999.0                 9.0\n",
       "15       PS              1994.0              2003.0                 9.0\n",
       "3        DC              1998.0              2008.0                10.0\n",
       "16      PS2              2000.0              2011.0                11.0\n",
       "29       XB              2000.0              2008.0                 8.0\n",
       "19      PSP              2004.0              2015.0                11.0"
      ]
     },
     "execution_count": 21,
     "metadata": {},
     "output_type": "execute_result"
    }
   ],
   "source": [
    "#conciderando como el año actual el 2016 cuales son las plataformas populares que han salido del mercado\n",
    "solian_ser_populares=populares[populares['ultimo_lanzamiento']<2016]\n",
    "solian_ser_populares"
   ]
  },
  {
   "cell_type": "markdown",
   "metadata": {
    "id": "r0kGr8EIGfsT"
   },
   "source": [
    "###4.-Construye  un modelo para el 2017.\n"
   ]
  },
  {
   "cell_type": "markdown",
   "metadata": {
    "id": "isDDNJpCQN4B"
   },
   "source": [
    "4.1.-Determina para qué período debes tomar datos"
   ]
  },
  {
   "cell_type": "code",
   "execution_count": 22,
   "metadata": {
    "colab": {
     "base_uri": "https://localhost:8080/"
    },
    "id": "qgGIHdtnMe6P",
    "outputId": "5db1487d-daed-4bf8-eedc-ebe08f4f44dc"
   },
   "outputs": [
    {
     "name": "stdout",
     "output_type": "stream",
     "text": [
      "El periodo para nuestra proyeccion de datos sera desde el año 2009 hasta el 2016\n"
     ]
    }
   ],
   "source": [
    "#conciderando que el promedio de estadia en el mercado de las plataformas es de 8 años calcular el periodo para proyectar el 2017\n",
    "periodo = 2016-promedio+1\n",
    "print(f'El periodo para nuestra proyeccion de datos sera desde el año ' +str(periodo)+ ' hasta el 2016')"
   ]
  },
  {
   "cell_type": "markdown",
   "metadata": {
    "id": "EUN4PBNGQ-vH"
   },
   "source": [
    "4.2-Que plataformas se encuentran dentro del rango promedio en el mercado para poder pronosticar el año 2017?"
   ]
  },
  {
   "cell_type": "code",
   "execution_count": 23,
   "metadata": {
    "colab": {
     "base_uri": "https://localhost:8080/",
     "height": 206
    },
    "id": "UrT-pD1svMd9",
    "outputId": "ccd63f86-68f9-4939-8093-7a3086d4a454"
   },
   "outputs": [
    {
     "data": {
      "text/html": [
       "<div>\n",
       "<style scoped>\n",
       "    .dataframe tbody tr th:only-of-type {\n",
       "        vertical-align: middle;\n",
       "    }\n",
       "\n",
       "    .dataframe tbody tr th {\n",
       "        vertical-align: top;\n",
       "    }\n",
       "\n",
       "    .dataframe thead th {\n",
       "        text-align: right;\n",
       "    }\n",
       "</style>\n",
       "<table border=\"1\" class=\"dataframe\">\n",
       "  <thead>\n",
       "    <tr style=\"text-align: right;\">\n",
       "      <th></th>\n",
       "      <th>platform</th>\n",
       "      <th>min</th>\n",
       "      <th>max</th>\n",
       "    </tr>\n",
       "  </thead>\n",
       "  <tbody>\n",
       "    <tr>\n",
       "      <th>2</th>\n",
       "      <td>3DS</td>\n",
       "      <td>2011.0</td>\n",
       "      <td>2016.0</td>\n",
       "    </tr>\n",
       "    <tr>\n",
       "      <th>18</th>\n",
       "      <td>PS4</td>\n",
       "      <td>2013.0</td>\n",
       "      <td>2016.0</td>\n",
       "    </tr>\n",
       "    <tr>\n",
       "      <th>20</th>\n",
       "      <td>PSV</td>\n",
       "      <td>2011.0</td>\n",
       "      <td>2016.0</td>\n",
       "    </tr>\n",
       "    <tr>\n",
       "      <th>27</th>\n",
       "      <td>WiiU</td>\n",
       "      <td>2012.0</td>\n",
       "      <td>2016.0</td>\n",
       "    </tr>\n",
       "    <tr>\n",
       "      <th>30</th>\n",
       "      <td>XOne</td>\n",
       "      <td>2013.0</td>\n",
       "      <td>2016.0</td>\n",
       "    </tr>\n",
       "  </tbody>\n",
       "</table>\n",
       "</div>"
      ],
      "text/plain": [
       "   platform     min     max\n",
       "2       3DS  2011.0  2016.0\n",
       "18      PS4  2013.0  2016.0\n",
       "20      PSV  2011.0  2016.0\n",
       "27     WiiU  2012.0  2016.0\n",
       "30     XOne  2013.0  2016.0"
      ]
     },
     "execution_count": 23,
     "metadata": {},
     "output_type": "execute_result"
    }
   ],
   "source": [
    "#calcular todas las plataformas que hayan producido y que esten produciendo dentro del rango del 2009 hasta el 2016\n",
    "plataformas_para_proyeccion=juegos.groupby(['platform'])['year_of_release'].agg(['min','max']).reset_index()\n",
    "plataformas_para_proyeccion1=plataformas_para_proyeccion[plataformas_para_proyeccion['min']>=2009]\n",
    "plataformas_para_proyeccion1"
   ]
  },
  {
   "cell_type": "markdown",
   "metadata": {
    "id": "gZ_myBUPR5lB"
   },
   "source": [
    "4.3.-Filtrar los datos de las plataformas que permitan generar un modelo para el año 2017"
   ]
  },
  {
   "cell_type": "code",
   "execution_count": 24,
   "metadata": {
    "colab": {
     "base_uri": "https://localhost:8080/",
     "height": 206
    },
    "id": "Hh5fa56v5Q5H",
    "outputId": "7b82e70e-5f87-450e-d36c-b9589e27cb59"
   },
   "outputs": [
    {
     "data": {
      "text/html": [
       "<div>\n",
       "<style scoped>\n",
       "    .dataframe tbody tr th:only-of-type {\n",
       "        vertical-align: middle;\n",
       "    }\n",
       "\n",
       "    .dataframe tbody tr th {\n",
       "        vertical-align: top;\n",
       "    }\n",
       "\n",
       "    .dataframe thead th {\n",
       "        text-align: right;\n",
       "    }\n",
       "</style>\n",
       "<table border=\"1\" class=\"dataframe\">\n",
       "  <thead>\n",
       "    <tr style=\"text-align: right;\">\n",
       "      <th>year_of_release</th>\n",
       "      <th>platform</th>\n",
       "      <th>2011.0</th>\n",
       "      <th>2012.0</th>\n",
       "      <th>2013.0</th>\n",
       "      <th>2014.0</th>\n",
       "      <th>2015.0</th>\n",
       "      <th>2016.0</th>\n",
       "    </tr>\n",
       "  </thead>\n",
       "  <tbody>\n",
       "    <tr>\n",
       "      <th>0</th>\n",
       "      <td>3DS</td>\n",
       "      <td>63.20</td>\n",
       "      <td>51.36</td>\n",
       "      <td>56.57</td>\n",
       "      <td>43.76</td>\n",
       "      <td>27.78</td>\n",
       "      <td>15.14</td>\n",
       "    </tr>\n",
       "    <tr>\n",
       "      <th>1</th>\n",
       "      <td>PS4</td>\n",
       "      <td>0.00</td>\n",
       "      <td>0.00</td>\n",
       "      <td>25.99</td>\n",
       "      <td>100.00</td>\n",
       "      <td>118.90</td>\n",
       "      <td>69.25</td>\n",
       "    </tr>\n",
       "    <tr>\n",
       "      <th>2</th>\n",
       "      <td>PSV</td>\n",
       "      <td>4.63</td>\n",
       "      <td>16.19</td>\n",
       "      <td>10.59</td>\n",
       "      <td>11.90</td>\n",
       "      <td>6.25</td>\n",
       "      <td>4.25</td>\n",
       "    </tr>\n",
       "    <tr>\n",
       "      <th>3</th>\n",
       "      <td>WiiU</td>\n",
       "      <td>0.00</td>\n",
       "      <td>17.56</td>\n",
       "      <td>21.65</td>\n",
       "      <td>22.03</td>\n",
       "      <td>16.35</td>\n",
       "      <td>4.60</td>\n",
       "    </tr>\n",
       "    <tr>\n",
       "      <th>4</th>\n",
       "      <td>XOne</td>\n",
       "      <td>0.00</td>\n",
       "      <td>0.00</td>\n",
       "      <td>18.96</td>\n",
       "      <td>54.07</td>\n",
       "      <td>60.14</td>\n",
       "      <td>26.15</td>\n",
       "    </tr>\n",
       "  </tbody>\n",
       "</table>\n",
       "</div>"
      ],
      "text/plain": [
       "year_of_release platform  2011.0  2012.0  2013.0  2014.0  2015.0  2016.0\n",
       "0                    3DS   63.20   51.36   56.57   43.76   27.78   15.14\n",
       "1                    PS4    0.00    0.00   25.99  100.00  118.90   69.25\n",
       "2                    PSV    4.63   16.19   10.59   11.90    6.25    4.25\n",
       "3                   WiiU    0.00   17.56   21.65   22.03   16.35    4.60\n",
       "4                   XOne    0.00    0.00   18.96   54.07   60.14   26.15"
      ]
     },
     "execution_count": 24,
     "metadata": {},
     "output_type": "execute_result"
    }
   ],
   "source": [
    "num=[\"3DS\",\"PS4\",\"PSV\",\"WiiU\",\"XOne\"]\n",
    "juegos_a_predecir=juegos[juegos['platform'].isin(num)]\n",
    "#Trabaja solo con los datos que consideras relevantes\n",
    "lideres_en_venta1=juegos_a_predecir.groupby([\"platform\",\"year_of_release\"])[\"ventas_total_regiones\"].sum().reset_index().sort_values(\"ventas_total_regiones\",ascending=False)\n",
    "datos_relevantes=lideres_en_venta1.pivot(index='platform',columns='year_of_release', values='ventas_total_regiones').reset_index()\n",
    "datos_relevantes=datos_relevantes.fillna(0)\n",
    "\n",
    "datos_relevantes\n"
   ]
  },
  {
   "cell_type": "markdown",
   "metadata": {
    "id": "-lDh6jg_S8hB"
   },
   "source": [
    "4.4.- Cual es el orden de ventas de las plataformas encontradas"
   ]
  },
  {
   "cell_type": "code",
   "execution_count": 25,
   "metadata": {
    "colab": {
     "base_uri": "https://localhost:8080/",
     "height": 206
    },
    "id": "jqRTERSI2XsL",
    "outputId": "e2c6b6eb-bd8c-48db-f507-4ddcf8ca3db5"
   },
   "outputs": [
    {
     "data": {
      "text/html": [
       "<div>\n",
       "<style scoped>\n",
       "    .dataframe tbody tr th:only-of-type {\n",
       "        vertical-align: middle;\n",
       "    }\n",
       "\n",
       "    .dataframe tbody tr th {\n",
       "        vertical-align: top;\n",
       "    }\n",
       "\n",
       "    .dataframe thead th {\n",
       "        text-align: right;\n",
       "    }\n",
       "</style>\n",
       "<table border=\"1\" class=\"dataframe\">\n",
       "  <thead>\n",
       "    <tr style=\"text-align: right;\">\n",
       "      <th></th>\n",
       "      <th>platform</th>\n",
       "      <th>ventas_total_regiones</th>\n",
       "    </tr>\n",
       "  </thead>\n",
       "  <tbody>\n",
       "    <tr>\n",
       "      <th>1</th>\n",
       "      <td>PS4</td>\n",
       "      <td>314.14</td>\n",
       "    </tr>\n",
       "    <tr>\n",
       "      <th>0</th>\n",
       "      <td>3DS</td>\n",
       "      <td>257.81</td>\n",
       "    </tr>\n",
       "    <tr>\n",
       "      <th>4</th>\n",
       "      <td>XOne</td>\n",
       "      <td>159.32</td>\n",
       "    </tr>\n",
       "    <tr>\n",
       "      <th>3</th>\n",
       "      <td>WiiU</td>\n",
       "      <td>82.19</td>\n",
       "    </tr>\n",
       "    <tr>\n",
       "      <th>2</th>\n",
       "      <td>PSV</td>\n",
       "      <td>53.81</td>\n",
       "    </tr>\n",
       "  </tbody>\n",
       "</table>\n",
       "</div>"
      ],
      "text/plain": [
       "  platform  ventas_total_regiones\n",
       "1      PS4                 314.14\n",
       "0      3DS                 257.81\n",
       "4     XOne                 159.32\n",
       "3     WiiU                  82.19\n",
       "2      PSV                  53.81"
      ]
     },
     "execution_count": 25,
     "metadata": {},
     "output_type": "execute_result"
    }
   ],
   "source": [
    "#plataformas lideres en ventas en el lapso del 2009 al 2016\n",
    "lideres_en_ventas=juegos_a_predecir.groupby([\"platform\"])[\"ventas_total_regiones\"].sum().reset_index().sort_values(\"ventas_total_regiones\",ascending=False)\n",
    "lideres_en_ventas\n"
   ]
  },
  {
   "cell_type": "markdown",
   "metadata": {
    "id": "bKdjaiIMUDS8"
   },
   "source": [
    "***En base a los hallazgos anteriores podriamos decir que PS4 es la plataforma con mayor proyeccion de ventas ya que es una de las que menos tiempo lleva en el mercado y es la que mas ha vendido.***\n",
    "\n",
    "***Por otro lado si bien 3DS se encuentra en segundo lugar seria un poco arriesgado ya que sabemos que el promedio en el mercado de una plataforma es de 8 años y ellos ya se encuentran 7, de todos modos no es una regla absoluta como hemos visto y se podria conciderar tambien una buena opcion.***\n",
    "\n",
    "***Para finalizar nuestro pronostico se podria decir que PSV esta en su etapa final ya que esta en el limite de años y tambien con una tendencia a la baja en sus ventas.***"
   ]
  },
  {
   "cell_type": "markdown",
   "metadata": {
    "id": "mTIFkKo_WCtp"
   },
   "source": [
    "###5.-Crea un diagrama de caja para las ventas globales de todos los juegos, de las 5 plataformas encontradas"
   ]
  },
  {
   "cell_type": "code",
   "execution_count": 26,
   "metadata": {
    "colab": {
     "base_uri": "https://localhost:8080/",
     "height": 740
    },
    "id": "nX2oH2weiuCe",
    "outputId": "336e7589-99fb-4271-be3c-1e8e3b190cdb"
   },
   "outputs": [
    {
     "data": {
      "image/png": "[encoded data removed]",
      "text/plain": [
       "<Figure size 1200x800 with 1 Axes>"
      ]
     },
     "metadata": {},
     "output_type": "display_data"
    }
   ],
   "source": [
    "#calculamos el IQR\n",
    "Q1= juegos_a_predecir['ventas_total_regiones'].quantile(0.25)\n",
    "Q3= juegos_a_predecir['ventas_total_regiones'].quantile(0.75)\n",
    "IQR= Q3-Q1\n",
    "#definimos los limites\n",
    "limite_inferior= Q1-1.5*IQR\n",
    "limite_superior= Q3+1.5*IQR\n",
    "#filtramos los valores atipico\n",
    "valores_atipicos = juegos_a_predecir[(juegos_a_predecir['ventas_total_regiones']< limite_inferior) | (juegos_a_predecir['ventas_total_regiones']> limite_superior)]\n",
    "#eliminamos los valores atipicos del dataframe para tener una mejor visualizacion\n",
    "juegos_a_predecir_sin_atipicos= juegos_a_predecir[~((juegos_a_predecir['ventas_total_regiones']< limite_inferior) | (juegos_a_predecir['ventas_total_regiones']> limite_superior))]\n",
    "\n",
    "plt.figure(figsize = (12,8))\n",
    "\n",
    "sns.boxplot(x='platform', y='ventas_total_regiones', data = juegos_a_predecir_sin_atipicos)\n",
    "\n",
    "plt.title('Comparacion de ventas globales en el perido (2009--2016)')\n",
    "plt.xlabel('Plataforma')\n",
    "plt.ylabel('Ventas totales')\n",
    "plt.xticks(rotation=45, ha='right')\n",
    "plt.show()"
   ]
  },
  {
   "cell_type": "markdown",
   "metadata": {},
   "source": [
    "<div class=\"alert alert-block alert-warning\">\n",
    "    <b>Comentario del revisor</b> <a class=\"tocSkip\"></a>\n",
    "    \n",
    "Muy buen trabajo con el desarrollo de la gráfica de cajas, este tipo de gráficos nos ayuda a comparar resultados de manera precisa. Solamente recuerda que los graficos de box-plot nos ayudan a identificar outliers que posteriomente en el desarrollo de las pruebas de hipótesis nos servirían eliminar para que no puedan sesgar nuestros resultados. \n",
    "</div>"
   ]
  },
  {
   "cell_type": "markdown",
   "metadata": {
    "id": "11-OQoVK9dAL"
   },
   "source": [
    "***Por medio de este diagrama de caja encontramos que si bien las medias de ventas son muy parecidas en casi todas las platafromas, la cantidad de ventas si varia en cuanto a cantidades y tambien nos permite visualizar y acentuar lo que habiamos comentado anteriormente***\n",
    "\n",
    "***PS4 es la plataforma con las mejores ventas ya que si bien el grafico se ve un poco inferior a XOne sus valores atipicos de ventas son muy superiores a los demas, lo que lo convierte en la plataforma mas rentable de todas.***"
   ]
  },
  {
   "cell_type": "markdown",
   "metadata": {
    "id": "vK5oYm5p-v79"
   },
   "source": [
    "****5.1 Escoje una plataforma de la lista anterior a tu eleccion.****\n",
    "\n",
    "Crea un gráfico de dispersión y calcula la correlación entre las reseñas y las ventas.\n"
   ]
  },
  {
   "cell_type": "code",
   "execution_count": 26,
   "metadata": {
    "colab": {
     "base_uri": "https://localhost:8080/",
     "height": 581
    },
    "id": "T1wBt4Blin-_",
    "outputId": "08708672-6791-4451-b121-0d2d0cec2602"
   },
   "outputs": [
    {
     "data": {
      "text/plain": [
       "Text(0.5, 1.0, 'Correlacion puntaje usuario y las ventas totales PS4')"
      ]
     },
     "execution_count": 26,
     "metadata": {},
     "output_type": "execute_result"
    },
    {
     "data": {
      "image/png": "[encoded data removed]",
      "text/plain": [
       "<Figure size 1200x600 with 2 Axes>"
      ]
     },
     "metadata": {},
     "output_type": "display_data"
    }
   ],
   "source": [
    "#Escogemos la plataforma PS4\n",
    "PS4= juegos[juegos['platform']=='PS4']\n",
    "#empezamos a generar nuestro grafico de dispercion\n",
    "fig, axes = plt.subplots(1,2, figsize=(12,6))\n",
    "\n",
    "sns.scatterplot( x='critic_score', y='ventas_total_regiones', data=PS4, ax=axes[0])\n",
    "axes[0].set_title(\"Correlacion puntaje critica y ventas totales PS4\")\n",
    "\n",
    "sns.scatterplot( x='user_score', y='ventas_total_regiones', data=PS4, ax=axes[1])\n",
    "axes[1].set_title(\"Correlacion puntaje usuario y las ventas totales PS4\")\n"
   ]
  },
  {
   "cell_type": "markdown",
   "metadata": {},
   "source": [
    "<div class=\"alert alert-block alert-success\">\n",
    "    <b>Comentario del revisor</b> <a class=\"tocSkip\"></a>\n",
    "    \n",
    "Gran trabajo con el análisis de la relación de score con las ventas"
   ]
  },
  {
   "cell_type": "code",
   "execution_count": 27,
   "metadata": {
    "colab": {
     "base_uri": "https://localhost:8080/"
    },
    "id": "CsT8KNWBBOJz",
    "outputId": "89413a23-c484-488e-f807-108a8be5de07"
   },
   "outputs": [
    {
     "name": "stdout",
     "output_type": "stream",
     "text": [
      "La correlacion entre la critica profesional y las ventas  de PS4 es 0.3387064530024634\n",
      "\n",
      "La correlacion entre la critica de los usuarios y las ventas  de PS4 es -0.06275557891282788\n"
     ]
    }
   ],
   "source": [
    "ps4_critica_ventas = PS4['critic_score'].corr(PS4['ventas_total_regiones'])\n",
    "print(f'La correlacion entre la critica profesional y las ventas  de PS4 es '+str(ps4_critica_ventas))\n",
    "print()\n",
    "ps4_usuarios_ventas = PS4['user_score'].corr(PS4['ventas_total_regiones'])\n",
    "print(f'La correlacion entre la critica de los usuarios y las ventas  de PS4 es '+str(ps4_usuarios_ventas))"
   ]
  },
  {
   "cell_type": "markdown",
   "metadata": {
    "id": "VqH80D0yGnTU"
   },
   "source": [
    "***Dentro de los hallazgos al analizar las correlaciones de nuestra plataforma seleccionada, observamos que la critica profesional tiene una correlacion moderada frente a las ventas lo que indica que talvez los usuarios se fijan mucho a la hora de comprar sus juegos en la misma***\n",
    "\n",
    "***Por otro lado la correlacion de la puntuacion de los usuarios frente a las ventas de nuestra plataforma es nula, las ventas de PS4 no dependen de la misma.***"
   ]
  },
  {
   "cell_type": "markdown",
   "metadata": {
    "id": "-O8xl3_CZBSi"
   },
   "source": [
    "5.3.- Compara las ventas de los juegos de la pataforma escojida frente a los  mismos juegos en otras 4 plataformas"
   ]
  },
  {
   "cell_type": "code",
   "execution_count": 28,
   "metadata": {
    "colab": {
     "base_uri": "https://localhost:8080/",
     "height": 1000
    },
    "id": "jzrlA2jZsF9m",
    "outputId": "b0dc0ac0-ef31-40bd-c7b4-6573bed1e310"
   },
   "outputs": [
    {
     "data": {
      "text/html": [
       "<div>\n",
       "<style scoped>\n",
       "    .dataframe tbody tr th:only-of-type {\n",
       "        vertical-align: middle;\n",
       "    }\n",
       "\n",
       "    .dataframe tbody tr th {\n",
       "        vertical-align: top;\n",
       "    }\n",
       "\n",
       "    .dataframe thead th {\n",
       "        text-align: right;\n",
       "    }\n",
       "</style>\n",
       "<table border=\"1\" class=\"dataframe\">\n",
       "  <thead>\n",
       "    <tr style=\"text-align: right;\">\n",
       "      <th></th>\n",
       "      <th>name</th>\n",
       "      <th>platform</th>\n",
       "      <th>ventas_total_regiones</th>\n",
       "    </tr>\n",
       "  </thead>\n",
       "  <tbody>\n",
       "    <tr>\n",
       "      <th>0</th>\n",
       "      <td>7 Days to Die</td>\n",
       "      <td>PS4</td>\n",
       "      <td>0.14</td>\n",
       "    </tr>\n",
       "    <tr>\n",
       "      <th>1</th>\n",
       "      <td>7 Days to Die</td>\n",
       "      <td>XOne</td>\n",
       "      <td>0.05</td>\n",
       "    </tr>\n",
       "    <tr>\n",
       "      <th>2</th>\n",
       "      <td>Adventure Time: Finn &amp; Jake Investigations</td>\n",
       "      <td>3DS</td>\n",
       "      <td>0.09</td>\n",
       "    </tr>\n",
       "    <tr>\n",
       "      <th>3</th>\n",
       "      <td>Adventure Time: Finn &amp; Jake Investigations</td>\n",
       "      <td>PS4</td>\n",
       "      <td>0.10</td>\n",
       "    </tr>\n",
       "    <tr>\n",
       "      <th>4</th>\n",
       "      <td>Adventure Time: Finn &amp; Jake Investigations</td>\n",
       "      <td>WiiU</td>\n",
       "      <td>0.05</td>\n",
       "    </tr>\n",
       "    <tr>\n",
       "      <th>5</th>\n",
       "      <td>Adventure Time: Finn &amp; Jake Investigations</td>\n",
       "      <td>XOne</td>\n",
       "      <td>0.05</td>\n",
       "    </tr>\n",
       "    <tr>\n",
       "      <th>6</th>\n",
       "      <td>Aegis of Earth: Protonovus Assault</td>\n",
       "      <td>PS4</td>\n",
       "      <td>0.02</td>\n",
       "    </tr>\n",
       "    <tr>\n",
       "      <th>7</th>\n",
       "      <td>Aegis of Earth: Protonovus Assault</td>\n",
       "      <td>PSV</td>\n",
       "      <td>0.03</td>\n",
       "    </tr>\n",
       "    <tr>\n",
       "      <th>8</th>\n",
       "      <td>Agatha Christie's The ABC Murders</td>\n",
       "      <td>PS4</td>\n",
       "      <td>0.02</td>\n",
       "    </tr>\n",
       "    <tr>\n",
       "      <th>9</th>\n",
       "      <td>Agatha Christie's The ABC Murders</td>\n",
       "      <td>XOne</td>\n",
       "      <td>0.01</td>\n",
       "    </tr>\n",
       "    <tr>\n",
       "      <th>10</th>\n",
       "      <td>Akiba's Trip: Undead &amp; Undressed</td>\n",
       "      <td>PS4</td>\n",
       "      <td>0.11</td>\n",
       "    </tr>\n",
       "    <tr>\n",
       "      <th>11</th>\n",
       "      <td>Akiba's Trip: Undead &amp; Undressed</td>\n",
       "      <td>PSV</td>\n",
       "      <td>0.15</td>\n",
       "    </tr>\n",
       "    <tr>\n",
       "      <th>12</th>\n",
       "      <td>Alien: Isolation</td>\n",
       "      <td>PS4</td>\n",
       "      <td>1.12</td>\n",
       "    </tr>\n",
       "    <tr>\n",
       "      <th>13</th>\n",
       "      <td>Alien: Isolation</td>\n",
       "      <td>XOne</td>\n",
       "      <td>0.50</td>\n",
       "    </tr>\n",
       "    <tr>\n",
       "      <th>14</th>\n",
       "      <td>Angry Birds Star Wars</td>\n",
       "      <td>3DS</td>\n",
       "      <td>0.33</td>\n",
       "    </tr>\n",
       "    <tr>\n",
       "      <th>15</th>\n",
       "      <td>Angry Birds Star Wars</td>\n",
       "      <td>PS4</td>\n",
       "      <td>0.22</td>\n",
       "    </tr>\n",
       "    <tr>\n",
       "      <th>16</th>\n",
       "      <td>Angry Birds Star Wars</td>\n",
       "      <td>PSV</td>\n",
       "      <td>0.08</td>\n",
       "    </tr>\n",
       "    <tr>\n",
       "      <th>17</th>\n",
       "      <td>Angry Birds Star Wars</td>\n",
       "      <td>WiiU</td>\n",
       "      <td>0.10</td>\n",
       "    </tr>\n",
       "    <tr>\n",
       "      <th>18</th>\n",
       "      <td>Angry Birds Star Wars</td>\n",
       "      <td>XOne</td>\n",
       "      <td>0.17</td>\n",
       "    </tr>\n",
       "    <tr>\n",
       "      <th>21</th>\n",
       "      <td>Arslan: The Warriors of Legend</td>\n",
       "      <td>PS4</td>\n",
       "      <td>0.09</td>\n",
       "    </tr>\n",
       "    <tr>\n",
       "      <th>22</th>\n",
       "      <td>Arslan: The Warriors of Legend</td>\n",
       "      <td>XOne</td>\n",
       "      <td>0.01</td>\n",
       "    </tr>\n",
       "    <tr>\n",
       "      <th>23</th>\n",
       "      <td>Assassin's Creed Chronicles</td>\n",
       "      <td>PS4</td>\n",
       "      <td>0.08</td>\n",
       "    </tr>\n",
       "    <tr>\n",
       "      <th>24</th>\n",
       "      <td>Assassin's Creed Chronicles</td>\n",
       "      <td>PSV</td>\n",
       "      <td>0.07</td>\n",
       "    </tr>\n",
       "    <tr>\n",
       "      <th>25</th>\n",
       "      <td>Assassin's Creed Chronicles</td>\n",
       "      <td>XOne</td>\n",
       "      <td>0.01</td>\n",
       "    </tr>\n",
       "    <tr>\n",
       "      <th>27</th>\n",
       "      <td>Assassin's Creed IV: Black Flag</td>\n",
       "      <td>PS4</td>\n",
       "      <td>2.86</td>\n",
       "    </tr>\n",
       "    <tr>\n",
       "      <th>28</th>\n",
       "      <td>Assassin's Creed IV: Black Flag</td>\n",
       "      <td>WiiU</td>\n",
       "      <td>0.29</td>\n",
       "    </tr>\n",
       "    <tr>\n",
       "      <th>29</th>\n",
       "      <td>Assassin's Creed IV: Black Flag</td>\n",
       "      <td>XOne</td>\n",
       "      <td>2.24</td>\n",
       "    </tr>\n",
       "    <tr>\n",
       "      <th>30</th>\n",
       "      <td>Assassin's Creed Syndicate</td>\n",
       "      <td>PS4</td>\n",
       "      <td>3.39</td>\n",
       "    </tr>\n",
       "    <tr>\n",
       "      <th>31</th>\n",
       "      <td>Assassin's Creed Syndicate</td>\n",
       "      <td>XOne</td>\n",
       "      <td>1.29</td>\n",
       "    </tr>\n",
       "    <tr>\n",
       "      <th>32</th>\n",
       "      <td>Assassin's Creed The Ezio Collection</td>\n",
       "      <td>PS4</td>\n",
       "      <td>0.20</td>\n",
       "    </tr>\n",
       "    <tr>\n",
       "      <th>33</th>\n",
       "      <td>Assassin's Creed The Ezio Collection</td>\n",
       "      <td>XOne</td>\n",
       "      <td>0.08</td>\n",
       "    </tr>\n",
       "    <tr>\n",
       "      <th>34</th>\n",
       "      <td>Assassin's Creed: Unity</td>\n",
       "      <td>PS4</td>\n",
       "      <td>3.96</td>\n",
       "    </tr>\n",
       "    <tr>\n",
       "      <th>35</th>\n",
       "      <td>Assassin's Creed: Unity</td>\n",
       "      <td>XOne</td>\n",
       "      <td>3.50</td>\n",
       "    </tr>\n",
       "    <tr>\n",
       "      <th>37</th>\n",
       "      <td>Assetto Corsa</td>\n",
       "      <td>PS4</td>\n",
       "      <td>0.06</td>\n",
       "    </tr>\n",
       "    <tr>\n",
       "      <th>38</th>\n",
       "      <td>Assetto Corsa</td>\n",
       "      <td>XOne</td>\n",
       "      <td>0.01</td>\n",
       "    </tr>\n",
       "    <tr>\n",
       "      <th>39</th>\n",
       "      <td>Atari Flashback Classics: Volume 1</td>\n",
       "      <td>PS4</td>\n",
       "      <td>0.02</td>\n",
       "    </tr>\n",
       "    <tr>\n",
       "      <th>40</th>\n",
       "      <td>Atari Flashback Classics: Volume 1</td>\n",
       "      <td>XOne</td>\n",
       "      <td>0.02</td>\n",
       "    </tr>\n",
       "    <tr>\n",
       "      <th>41</th>\n",
       "      <td>Atari Flashback Classics: Volume 2</td>\n",
       "      <td>PS4</td>\n",
       "      <td>0.02</td>\n",
       "    </tr>\n",
       "    <tr>\n",
       "      <th>42</th>\n",
       "      <td>Atari Flashback Classics: Volume 2</td>\n",
       "      <td>XOne</td>\n",
       "      <td>0.02</td>\n",
       "    </tr>\n",
       "    <tr>\n",
       "      <th>43</th>\n",
       "      <td>Atelier Firis: The Alchemist of the Mysterious...</td>\n",
       "      <td>PS4</td>\n",
       "      <td>0.03</td>\n",
       "    </tr>\n",
       "    <tr>\n",
       "      <th>44</th>\n",
       "      <td>Atelier Firis: The Alchemist of the Mysterious...</td>\n",
       "      <td>PSV</td>\n",
       "      <td>0.02</td>\n",
       "    </tr>\n",
       "    <tr>\n",
       "      <th>45</th>\n",
       "      <td>Atelier Sophie: The Alchemist of the Mysteriou...</td>\n",
       "      <td>PS4</td>\n",
       "      <td>0.12</td>\n",
       "    </tr>\n",
       "    <tr>\n",
       "      <th>46</th>\n",
       "      <td>Atelier Sophie: The Alchemist of the Mysteriou...</td>\n",
       "      <td>PSV</td>\n",
       "      <td>0.06</td>\n",
       "    </tr>\n",
       "    <tr>\n",
       "      <th>47</th>\n",
       "      <td>Attack on Titan (KOEI)</td>\n",
       "      <td>PS4</td>\n",
       "      <td>0.29</td>\n",
       "    </tr>\n",
       "    <tr>\n",
       "      <th>48</th>\n",
       "      <td>Attack on Titan (KOEI)</td>\n",
       "      <td>PSV</td>\n",
       "      <td>0.13</td>\n",
       "    </tr>\n",
       "    <tr>\n",
       "      <th>49</th>\n",
       "      <td>Attack on Titan (KOEI)</td>\n",
       "      <td>XOne</td>\n",
       "      <td>0.05</td>\n",
       "    </tr>\n",
       "    <tr>\n",
       "      <th>50</th>\n",
       "      <td>Back to the Future: The Game</td>\n",
       "      <td>PS4</td>\n",
       "      <td>0.18</td>\n",
       "    </tr>\n",
       "    <tr>\n",
       "      <th>51</th>\n",
       "      <td>Back to the Future: The Game</td>\n",
       "      <td>XOne</td>\n",
       "      <td>0.02</td>\n",
       "    </tr>\n",
       "    <tr>\n",
       "      <th>52</th>\n",
       "      <td>Batman: A Telltale Game Series</td>\n",
       "      <td>PS4</td>\n",
       "      <td>0.09</td>\n",
       "    </tr>\n",
       "    <tr>\n",
       "      <th>53</th>\n",
       "      <td>Batman: A Telltale Game Series</td>\n",
       "      <td>XOne</td>\n",
       "      <td>0.03</td>\n",
       "    </tr>\n",
       "  </tbody>\n",
       "</table>\n",
       "</div>"
      ],
      "text/plain": [
       "                                                 name platform  \\\n",
       "0                                       7 Days to Die      PS4   \n",
       "1                                       7 Days to Die     XOne   \n",
       "2          Adventure Time: Finn & Jake Investigations      3DS   \n",
       "3          Adventure Time: Finn & Jake Investigations      PS4   \n",
       "4          Adventure Time: Finn & Jake Investigations     WiiU   \n",
       "5          Adventure Time: Finn & Jake Investigations     XOne   \n",
       "6                  Aegis of Earth: Protonovus Assault      PS4   \n",
       "7                  Aegis of Earth: Protonovus Assault      PSV   \n",
       "8                   Agatha Christie's The ABC Murders      PS4   \n",
       "9                   Agatha Christie's The ABC Murders     XOne   \n",
       "10                   Akiba's Trip: Undead & Undressed      PS4   \n",
       "11                   Akiba's Trip: Undead & Undressed      PSV   \n",
       "12                                   Alien: Isolation      PS4   \n",
       "13                                   Alien: Isolation     XOne   \n",
       "14                              Angry Birds Star Wars      3DS   \n",
       "15                              Angry Birds Star Wars      PS4   \n",
       "16                              Angry Birds Star Wars      PSV   \n",
       "17                              Angry Birds Star Wars     WiiU   \n",
       "18                              Angry Birds Star Wars     XOne   \n",
       "21                     Arslan: The Warriors of Legend      PS4   \n",
       "22                     Arslan: The Warriors of Legend     XOne   \n",
       "23                        Assassin's Creed Chronicles      PS4   \n",
       "24                        Assassin's Creed Chronicles      PSV   \n",
       "25                        Assassin's Creed Chronicles     XOne   \n",
       "27                    Assassin's Creed IV: Black Flag      PS4   \n",
       "28                    Assassin's Creed IV: Black Flag     WiiU   \n",
       "29                    Assassin's Creed IV: Black Flag     XOne   \n",
       "30                         Assassin's Creed Syndicate      PS4   \n",
       "31                         Assassin's Creed Syndicate     XOne   \n",
       "32               Assassin's Creed The Ezio Collection      PS4   \n",
       "33               Assassin's Creed The Ezio Collection     XOne   \n",
       "34                            Assassin's Creed: Unity      PS4   \n",
       "35                            Assassin's Creed: Unity     XOne   \n",
       "37                                      Assetto Corsa      PS4   \n",
       "38                                      Assetto Corsa     XOne   \n",
       "39                 Atari Flashback Classics: Volume 1      PS4   \n",
       "40                 Atari Flashback Classics: Volume 1     XOne   \n",
       "41                 Atari Flashback Classics: Volume 2      PS4   \n",
       "42                 Atari Flashback Classics: Volume 2     XOne   \n",
       "43  Atelier Firis: The Alchemist of the Mysterious...      PS4   \n",
       "44  Atelier Firis: The Alchemist of the Mysterious...      PSV   \n",
       "45  Atelier Sophie: The Alchemist of the Mysteriou...      PS4   \n",
       "46  Atelier Sophie: The Alchemist of the Mysteriou...      PSV   \n",
       "47                             Attack on Titan (KOEI)      PS4   \n",
       "48                             Attack on Titan (KOEI)      PSV   \n",
       "49                             Attack on Titan (KOEI)     XOne   \n",
       "50                       Back to the Future: The Game      PS4   \n",
       "51                       Back to the Future: The Game     XOne   \n",
       "52                     Batman: A Telltale Game Series      PS4   \n",
       "53                     Batman: A Telltale Game Series     XOne   \n",
       "\n",
       "    ventas_total_regiones  \n",
       "0                    0.14  \n",
       "1                    0.05  \n",
       "2                    0.09  \n",
       "3                    0.10  \n",
       "4                    0.05  \n",
       "5                    0.05  \n",
       "6                    0.02  \n",
       "7                    0.03  \n",
       "8                    0.02  \n",
       "9                    0.01  \n",
       "10                   0.11  \n",
       "11                   0.15  \n",
       "12                   1.12  \n",
       "13                   0.50  \n",
       "14                   0.33  \n",
       "15                   0.22  \n",
       "16                   0.08  \n",
       "17                   0.10  \n",
       "18                   0.17  \n",
       "21                   0.09  \n",
       "22                   0.01  \n",
       "23                   0.08  \n",
       "24                   0.07  \n",
       "25                   0.01  \n",
       "27                   2.86  \n",
       "28                   0.29  \n",
       "29                   2.24  \n",
       "30                   3.39  \n",
       "31                   1.29  \n",
       "32                   0.20  \n",
       "33                   0.08  \n",
       "34                   3.96  \n",
       "35                   3.50  \n",
       "37                   0.06  \n",
       "38                   0.01  \n",
       "39                   0.02  \n",
       "40                   0.02  \n",
       "41                   0.02  \n",
       "42                   0.02  \n",
       "43                   0.03  \n",
       "44                   0.02  \n",
       "45                   0.12  \n",
       "46                   0.06  \n",
       "47                   0.29  \n",
       "48                   0.13  \n",
       "49                   0.05  \n",
       "50                   0.18  \n",
       "51                   0.02  \n",
       "52                   0.09  \n",
       "53                   0.03  "
      ]
     },
     "execution_count": 28,
     "metadata": {},
     "output_type": "execute_result"
    }
   ],
   "source": [
    "juegos_de_ps2=pd.unique(PS4['name'])\n",
    "juegos_de_ps2=juegos_de_ps2.tolist()\n",
    "\n",
    "juegos_de_ps2\n",
    "\n",
    "comparacion=juegos_a_predecir[juegos_a_predecir['name'].isin(PS4['name'])]\n",
    "comparacion1=comparacion.groupby(['name','platform'])['ventas_total_regiones'].sum().reset_index()\n",
    "comparacion1[comparacion1.duplicated(subset='name',keep=False)].head(50)\n"
   ]
  },
  {
   "cell_type": "markdown",
   "metadata": {
    "id": "e6Q5PqPLI-61"
   },
   "source": [
    "***En esta compracion tambien podemos acentuar el porque PS4 es la plataforma actual lider en venta ya que al analizar juego por juego siempre obtiene mayores ganancias frente a su competencia aunque en algunos casos llegue a ser minima, siempre esta al frente.***"
   ]
  },
  {
   "cell_type": "markdown",
   "metadata": {
    "id": "p9Fpa9AcMxoj"
   },
   "source": [
    "###6.-Echa un vistazo a la distribución general de los juegos por género de las plataformas lideres actuales\n",
    "\n",
    "6.1.- Encuentra la catidad de juegos lanzados al mercado por genero"
   ]
  },
  {
   "cell_type": "code",
   "execution_count": 30,
   "metadata": {
    "colab": {
     "base_uri": "https://localhost:8080/",
     "height": 425
    },
    "id": "2jUKSJs8MFBr",
    "outputId": "39dcab30-c03c-4fe2-a6aa-35c74340c246"
   },
   "outputs": [
    {
     "data": {
      "text/html": [
       "<div>\n",
       "<style scoped>\n",
       "    .dataframe tbody tr th:only-of-type {\n",
       "        vertical-align: middle;\n",
       "    }\n",
       "\n",
       "    .dataframe tbody tr th {\n",
       "        vertical-align: top;\n",
       "    }\n",
       "\n",
       "    .dataframe thead th {\n",
       "        text-align: right;\n",
       "    }\n",
       "</style>\n",
       "<table border=\"1\" class=\"dataframe\">\n",
       "  <thead>\n",
       "    <tr style=\"text-align: right;\">\n",
       "      <th></th>\n",
       "      <th>genre</th>\n",
       "      <th>cantidad_de_juegos_por_genero</th>\n",
       "    </tr>\n",
       "  </thead>\n",
       "  <tbody>\n",
       "    <tr>\n",
       "      <th>0</th>\n",
       "      <td>Action</td>\n",
       "      <td>629</td>\n",
       "    </tr>\n",
       "    <tr>\n",
       "      <th>7</th>\n",
       "      <td>Role-Playing</td>\n",
       "      <td>244</td>\n",
       "    </tr>\n",
       "    <tr>\n",
       "      <th>1</th>\n",
       "      <td>Adventure</td>\n",
       "      <td>175</td>\n",
       "    </tr>\n",
       "    <tr>\n",
       "      <th>10</th>\n",
       "      <td>Sports</td>\n",
       "      <td>140</td>\n",
       "    </tr>\n",
       "    <tr>\n",
       "      <th>3</th>\n",
       "      <td>Misc</td>\n",
       "      <td>139</td>\n",
       "    </tr>\n",
       "    <tr>\n",
       "      <th>8</th>\n",
       "      <td>Shooter</td>\n",
       "      <td>100</td>\n",
       "    </tr>\n",
       "    <tr>\n",
       "      <th>4</th>\n",
       "      <td>Platform</td>\n",
       "      <td>71</td>\n",
       "    </tr>\n",
       "    <tr>\n",
       "      <th>6</th>\n",
       "      <td>Racing</td>\n",
       "      <td>63</td>\n",
       "    </tr>\n",
       "    <tr>\n",
       "      <th>2</th>\n",
       "      <td>Fighting</td>\n",
       "      <td>60</td>\n",
       "    </tr>\n",
       "    <tr>\n",
       "      <th>9</th>\n",
       "      <td>Simulation</td>\n",
       "      <td>44</td>\n",
       "    </tr>\n",
       "    <tr>\n",
       "      <th>11</th>\n",
       "      <td>Strategy</td>\n",
       "      <td>34</td>\n",
       "    </tr>\n",
       "    <tr>\n",
       "      <th>5</th>\n",
       "      <td>Puzzle</td>\n",
       "      <td>28</td>\n",
       "    </tr>\n",
       "  </tbody>\n",
       "</table>\n",
       "</div>"
      ],
      "text/plain": [
       "           genre  cantidad_de_juegos_por_genero\n",
       "0         Action                            629\n",
       "7   Role-Playing                            244\n",
       "1      Adventure                            175\n",
       "10        Sports                            140\n",
       "3           Misc                            139\n",
       "8        Shooter                            100\n",
       "4       Platform                             71\n",
       "6         Racing                             63\n",
       "2       Fighting                             60\n",
       "9     Simulation                             44\n",
       "11      Strategy                             34\n",
       "5         Puzzle                             28"
      ]
     },
     "execution_count": 30,
     "metadata": {},
     "output_type": "execute_result"
    }
   ],
   "source": [
    "juegos_por_genero=juegos_a_predecir.groupby('genre')['platform'].count().reset_index()\n",
    "juegos_por_genero=juegos_por_genero.rename(columns={'platform':'cantidad_de_juegos_por_genero'})\n",
    "juegos_por_genero=juegos_por_genero.sort_values('cantidad_de_juegos_por_genero',ascending=False)\n",
    "juegos_por_genero"
   ]
  },
  {
   "cell_type": "code",
   "execution_count": 31,
   "metadata": {
    "colab": {
     "base_uri": "https://localhost:8080/",
     "height": 528
    },
    "id": "u977GtSxNs5T",
    "outputId": "61ee1865-8a8d-4b7f-d47c-8e5562beb8cf"
   },
   "outputs": [
    {
     "data": {
      "image/png": "[encoded data removed]",
      "text/plain": [
       "<Figure size 640x480 with 1 Axes>"
      ]
     },
     "metadata": {},
     "output_type": "display_data"
    }
   ],
   "source": [
    "juegos_por_genero.plot(x='genre',kind='bar',\n",
    "        y='cantidad_de_juegos_por_genero',\n",
    "        legend=False,\n",
    "        title='Cantidade de juegos lanzados por genero',\n",
    "        xlabel='generos de videojuegos',\n",
    "        ylabel='Cantidad de ventas por genero',\n",
    "        rot=45)\n",
    "\n",
    "plt.show()"
   ]
  },
  {
   "cell_type": "markdown",
   "metadata": {
    "id": "90MaM187PPgs"
   },
   "source": [
    "6.2.- Encuentra los generos mas rentables de las mejores plataformas actuales"
   ]
  },
  {
   "cell_type": "code",
   "execution_count": 32,
   "metadata": {
    "colab": {
     "base_uri": "https://localhost:8080/",
     "height": 425
    },
    "id": "j8odAG_ZP1rE",
    "outputId": "c872efaa-f947-4412-9b75-744a3487045f"
   },
   "outputs": [
    {
     "data": {
      "text/html": [
       "<div>\n",
       "<style scoped>\n",
       "    .dataframe tbody tr th:only-of-type {\n",
       "        vertical-align: middle;\n",
       "    }\n",
       "\n",
       "    .dataframe tbody tr th {\n",
       "        vertical-align: top;\n",
       "    }\n",
       "\n",
       "    .dataframe thead th {\n",
       "        text-align: right;\n",
       "    }\n",
       "</style>\n",
       "<table border=\"1\" class=\"dataframe\">\n",
       "  <thead>\n",
       "    <tr style=\"text-align: right;\">\n",
       "      <th></th>\n",
       "      <th>genre</th>\n",
       "      <th>cantidad_de_ingresos_por_genero</th>\n",
       "    </tr>\n",
       "  </thead>\n",
       "  <tbody>\n",
       "    <tr>\n",
       "      <th>0</th>\n",
       "      <td>Action</td>\n",
       "      <td>227.34</td>\n",
       "    </tr>\n",
       "    <tr>\n",
       "      <th>8</th>\n",
       "      <td>Shooter</td>\n",
       "      <td>160.00</td>\n",
       "    </tr>\n",
       "    <tr>\n",
       "      <th>7</th>\n",
       "      <td>Role-Playing</td>\n",
       "      <td>138.78</td>\n",
       "    </tr>\n",
       "    <tr>\n",
       "      <th>10</th>\n",
       "      <td>Sports</td>\n",
       "      <td>95.85</td>\n",
       "    </tr>\n",
       "    <tr>\n",
       "      <th>4</th>\n",
       "      <td>Platform</td>\n",
       "      <td>65.24</td>\n",
       "    </tr>\n",
       "    <tr>\n",
       "      <th>6</th>\n",
       "      <td>Racing</td>\n",
       "      <td>47.18</td>\n",
       "    </tr>\n",
       "    <tr>\n",
       "      <th>3</th>\n",
       "      <td>Misc</td>\n",
       "      <td>43.50</td>\n",
       "    </tr>\n",
       "    <tr>\n",
       "      <th>2</th>\n",
       "      <td>Fighting</td>\n",
       "      <td>30.55</td>\n",
       "    </tr>\n",
       "    <tr>\n",
       "      <th>9</th>\n",
       "      <td>Simulation</td>\n",
       "      <td>29.16</td>\n",
       "    </tr>\n",
       "    <tr>\n",
       "      <th>1</th>\n",
       "      <td>Adventure</td>\n",
       "      <td>17.86</td>\n",
       "    </tr>\n",
       "    <tr>\n",
       "      <th>5</th>\n",
       "      <td>Puzzle</td>\n",
       "      <td>7.09</td>\n",
       "    </tr>\n",
       "    <tr>\n",
       "      <th>11</th>\n",
       "      <td>Strategy</td>\n",
       "      <td>4.72</td>\n",
       "    </tr>\n",
       "  </tbody>\n",
       "</table>\n",
       "</div>"
      ],
      "text/plain": [
       "           genre  cantidad_de_ingresos_por_genero\n",
       "0         Action                           227.34\n",
       "8        Shooter                           160.00\n",
       "7   Role-Playing                           138.78\n",
       "10        Sports                            95.85\n",
       "4       Platform                            65.24\n",
       "6         Racing                            47.18\n",
       "3           Misc                            43.50\n",
       "2       Fighting                            30.55\n",
       "9     Simulation                            29.16\n",
       "1      Adventure                            17.86\n",
       "5         Puzzle                             7.09\n",
       "11      Strategy                             4.72"
      ]
     },
     "execution_count": 32,
     "metadata": {},
     "output_type": "execute_result"
    }
   ],
   "source": [
    "ingresos_por_genero=juegos_a_predecir.groupby('genre')['ventas_total_regiones'].sum().reset_index()\n",
    "ingresos_por_genero=ingresos_por_genero.rename(columns={'ventas_total_regiones':'cantidad_de_ingresos_por_genero'})\n",
    "ingresos_por_genero=ingresos_por_genero.sort_values('cantidad_de_ingresos_por_genero',ascending=False)\n",
    "ingresos_por_genero"
   ]
  },
  {
   "cell_type": "code",
   "execution_count": 33,
   "metadata": {
    "colab": {
     "base_uri": "https://localhost:8080/",
     "height": 528
    },
    "id": "tx8_aRCgQhjE",
    "outputId": "b5a6d4f0-f15f-4ae0-de8e-9e7f8e2f377e"
   },
   "outputs": [
    {
     "data": {
      "image/png": "[encoded data removed]",
      "text/plain": [
       "<Figure size 640x480 with 1 Axes>"
      ]
     },
     "metadata": {},
     "output_type": "display_data"
    }
   ],
   "source": [
    "ingresos_por_genero.plot(x='genre',kind='bar',\n",
    "        y='cantidad_de_ingresos_por_genero',\n",
    "        legend=False,\n",
    "        title='Cantidade de ingresos generado por genero de principales plataformas',\n",
    "        xlabel='generos de las principales plataformas',\n",
    "        ylabel='Cantidad de ingresos por genero',\n",
    "        rot=45)\n",
    "\n",
    "plt.show()"
   ]
  },
  {
   "cell_type": "markdown",
   "metadata": {
    "id": "4RIATCeiObF1"
   },
   "source": [
    "***Luego de realizar este analisis podemos decir que que los ingresos por genero no estan relacionados con las ventas por genero ya que como podemos observar en ambos graficos y cuadros estadisticos la unica variable en comun que se repite en primer lugar es Action que es el genero que mas se vende y el que mas ingresos genera, los demas se encuentran en diferentes posiciones en ambos cuadros lo que nos indica que talvez los juegos mas famosos son mas caros y menos vendidos en cantidad pero que generan mas ingresos por su fama y calidad.***"
   ]
  },
  {
   "cell_type": "markdown",
   "metadata": {
    "id": "UuvWjKmEHCin"
   },
   "source": [
    "###7.-Para cada región (NA, UE, JP) determina lo siguiente:\n",
    "\n",
    "7.1.-Encuentra las cinco plataformas principales.\n",
    "\n",
    "7.2.-Encuentra las variaciones en sus cuotas de mercado.\n",
    "\n",
    "7.3.-Encuentra los cinco géneros principales.\n",
    "\n",
    "7.4.-Encuentra el efecto de las  clasificaciones de ESRB sobre las ventas en las diferentes regiones."
   ]
  },
  {
   "cell_type": "markdown",
   "metadata": {
    "id": "2IlFpC8BStT9"
   },
   "source": [
    "###Norte America"
   ]
  },
  {
   "cell_type": "code",
   "execution_count": 34,
   "metadata": {
    "colab": {
     "base_uri": "https://localhost:8080/"
    },
    "id": "lKirm_JYSeuF",
    "outputId": "200d5868-5bf1-4cb6-c824-9fbe4971dd67"
   },
   "outputs": [
    {
     "name": "stdout",
     "output_type": "stream",
     "text": [
      "5 principales plaataformas de na y su cuota de mercado\n",
      "\n",
      "   platform  na_sales  cuota_mercado_na\n",
      "28     X360    595.74         24.556775\n",
      "16      PS2    572.92         23.616121\n",
      "26      Wii    486.87         20.069086\n",
      "17      PS3    390.13         16.081402\n",
      "4        DS    380.31         15.676616\n",
      "\n",
      "5 principales generos de na\n",
      "\n",
      "       genre  na_sales\n",
      "0     Action    863.17\n",
      "10    Sports    671.20\n",
      "8    Shooter    584.83\n",
      "4   Platform    444.44\n",
      "3       Misc    399.57\n",
      "\n",
      "top 5 de calificaciones del rating de na\n",
      "\n",
      "             rating  na_sales\n",
      "1                 E   1274.24\n",
      "8  sin calificacion   1225.84\n",
      "7                 T    747.60\n",
      "5                 M    742.89\n",
      "2              E10+    345.50\n"
     ]
    }
   ],
   "source": [
    "print('5 principales plaataformas de na y su cuota de mercado')\n",
    "print()\n",
    "top5_na_sales=juegos.groupby('platform')['na_sales'].sum().reset_index()\n",
    "top5_na_sales=top5_na_sales.sort_values('na_sales',ascending=False).head(5)\n",
    "top5_na_sales['cuota_mercado_na']= (top5_na_sales['na_sales']/top5_na_sales['na_sales'].sum())*100\n",
    "print(top5_na_sales)\n",
    "print()\n",
    "print('5 principales generos de na')\n",
    "print()\n",
    "top5_generos_na=juegos.groupby('genre')['na_sales'].sum().reset_index()\n",
    "top5_generos_na=top5_generos_na.sort_values('na_sales',ascending=False).head(5)\n",
    "print(top5_generos_na)\n",
    "print()\n",
    "print('top 5 de calificaciones del rating de na')\n",
    "print()\n",
    "top5_rating_na=juegos.groupby('rating')['na_sales'].sum().reset_index()\n",
    "top5_rating_na=top5_rating_na.sort_values('na_sales',ascending=False).head(5)\n",
    "print(top5_rating_na)\n",
    "\n"
   ]
  },
  {
   "cell_type": "markdown",
   "metadata": {
    "id": "pQnVd6XES0aO"
   },
   "source": [
    "###Europa"
   ]
  },
  {
   "cell_type": "code",
   "execution_count": 35,
   "metadata": {
    "colab": {
     "base_uri": "https://localhost:8080/"
    },
    "id": "2mvWuVinTy-E",
    "outputId": "c44d108e-62a4-4b2b-b1ee-cc4fca6ad830"
   },
   "outputs": [
    {
     "name": "stdout",
     "output_type": "stream",
     "text": [
      "5 principales plaataformas de eu y su cuota de mercado\n",
      "\n",
      "   platform  eu_sales  cuota_mercado_eu\n",
      "16      PS2    332.63         23.778478\n",
      "17      PS3    327.21         23.391023\n",
      "28     X360    268.32         19.181196\n",
      "26      Wii    258.32         18.466334\n",
      "15       PS    212.39         15.182969\n",
      "\n",
      "5 principales generos de eu\n",
      "\n",
      "      genre  eu_sales\n",
      "0    Action    510.99\n",
      "10   Sports    371.33\n",
      "8   Shooter    314.52\n",
      "6    Racing    234.49\n",
      "3      Misc    210.60\n",
      "\n",
      "top 5 de calificaciones del rating de eu\n",
      "\n",
      "             rating  eu_sales\n",
      "1                 E    703.87\n",
      "8  sin calificacion    609.65\n",
      "5                 M    480.00\n",
      "7                 T    421.79\n",
      "2              E10+    183.35\n"
     ]
    }
   ],
   "source": [
    "print('5 principales plaataformas de eu y su cuota de mercado')\n",
    "print()\n",
    "top5_eu_sales=juegos.groupby('platform')['eu_sales'].sum().reset_index()\n",
    "top5_eu_sales=top5_eu_sales.sort_values('eu_sales',ascending=False).head(5)\n",
    "top5_eu_sales['cuota_mercado_eu']= (top5_eu_sales['eu_sales']/top5_eu_sales['eu_sales'].sum())*100\n",
    "print(top5_eu_sales)\n",
    "print()\n",
    "print('5 principales generos de eu')\n",
    "print()\n",
    "top5_generos_eu=juegos.groupby('genre')['eu_sales'].sum().reset_index()\n",
    "top5_generos_eu=top5_generos_eu.sort_values('eu_sales',ascending=False).head(5)\n",
    "print(top5_generos_eu)\n",
    "print()\n",
    "print('top 5 de calificaciones del rating de eu')\n",
    "print()\n",
    "top5_rating_eu=juegos.groupby('rating')['eu_sales'].sum().reset_index()\n",
    "top5_rating_eu=top5_rating_eu.sort_values('eu_sales',ascending=False).head(5)\n",
    "print(top5_rating_eu)\n"
   ]
  },
  {
   "cell_type": "markdown",
   "metadata": {
    "id": "E_zU8F16S73f"
   },
   "source": [
    "###Japon"
   ]
  },
  {
   "cell_type": "code",
   "execution_count": 36,
   "metadata": {
    "colab": {
     "base_uri": "https://localhost:8080/"
    },
    "id": "R6w0MtucUFL0",
    "outputId": "7f74dff4-84f5-48fc-d7ac-af1b1244ed0c"
   },
   "outputs": [
    {
     "name": "stdout",
     "output_type": "stream",
     "text": [
      "5 principales plaataformas de jp y su cuota de mercado\n",
      "\n",
      "   platform  jp_sales  cuota_mercado_jp\n",
      "4        DS    175.02         26.141506\n",
      "15       PS    139.78         20.877956\n",
      "16      PS2    137.54         20.543382\n",
      "23     SNES    116.55         17.408254\n",
      "2       3DS    100.62         15.028902\n",
      "\n",
      "5 principales generos de jp\n",
      "\n",
      "           genre  jp_sales\n",
      "7   Role-Playing    353.39\n",
      "0         Action    160.14\n",
      "10        Sports    134.93\n",
      "4       Platform    130.71\n",
      "3           Misc    107.02\n",
      "\n",
      "top 5 de calificaciones del rating de jp\n",
      "\n",
      "             rating  jp_sales\n",
      "8  sin calificacion    836.74\n",
      "1                 E    197.96\n",
      "7                 T    150.70\n",
      "5                 M     63.58\n",
      "2              E10+     40.20\n"
     ]
    }
   ],
   "source": [
    "print('5 principales plaataformas de jp y su cuota de mercado')\n",
    "print()\n",
    "top5_jp_sales=juegos.groupby('platform')['jp_sales'].sum().reset_index()\n",
    "top5_jp_sales=top5_jp_sales.sort_values('jp_sales',ascending=False).head(5)\n",
    "top5_jp_sales['cuota_mercado_jp']= (top5_jp_sales['jp_sales']/top5_jp_sales['jp_sales'].sum())*100\n",
    "print(top5_jp_sales)\n",
    "print()\n",
    "print('5 principales generos de jp')\n",
    "print()\n",
    "top5_generos_jp=juegos.groupby('genre')['jp_sales'].sum().reset_index()\n",
    "top5_generos_jp=top5_generos_jp.sort_values('jp_sales',ascending=False).head(5)\n",
    "print(top5_generos_jp)\n",
    "print()\n",
    "print('top 5 de calificaciones del rating de jp')\n",
    "print()\n",
    "top5_rating_jp=juegos.groupby('rating')['jp_sales'].sum().reset_index()\n",
    "top5_rating_jp=top5_rating_jp.sort_values('jp_sales',ascending=False).head(5)\n",
    "print(top5_rating_jp)"
   ]
  },
  {
   "cell_type": "markdown",
   "metadata": {
    "id": "5deDleAsTPJf"
   },
   "source": [
    "****Analisis de la etapa 7****\n",
    "\n",
    "***5 principales generos***\n",
    "\n",
    "Observamos que si bien no en el mismo orden su preferencias son muy similares mas aun entre NA y EU mientras que JP se diferencia un poco mas con la aparicion de plataformas como SNES y 3DS que no se encuentran en niguna de las otras dos.\n",
    "\n",
    "***Analisis de cuotas del mercado***\n",
    "\n",
    "Para hacer este analisis hemos escojido nuevamente de manera personal la plataforma PS2 ya que observamos que se encuentra entre las mejores 5 en las tres regiones.\n",
    "\n",
    "Encontramos que no existe una diferencia signifcativa para esta plataforma ya que tanto para NA como para EU esta es de 23 y para JP es ligeramente inferior con una cuota de 20.\n",
    "\n",
    "Tambien nos llamo la atencion y decidimos analizar la plataforma DS que como dato curioso se encuentra en la quinta posicion en NA y en la primera posicion en JP.\n",
    "\n",
    "Al analizar esta plataforma si encontramos como una diferencia significativa de 11 puntos entre NA y JP\n",
    "\n",
    "Estos dos analisis de datos nos indican que podemos encontrar plataformas de gran preferencia global y plataformas de gran preferencia regional.\n",
    "\n",
    "***Como afecta el rating en el porcentaje de ventas de cada una de las regiones?***\n",
    "\n",
    "Aqui encontramos un patron comun en las tres regiones y es que T y sin calificaciones siempre estan en los dos primeros lugares, probablemente existen muchas que aun no estan calificadas y que una de las calificaciones que mas vende es T.\n"
   ]
  },
  {
   "cell_type": "markdown",
   "metadata": {
    "id": "JxA7Hm4p367S"
   },
   "source": [
    "#8. Prueba las siguientes hipótesis:"
   ]
  },
  {
   "cell_type": "markdown",
   "metadata": {
    "id": "kqk5dt6y4U9x"
   },
   "source": [
    "8.1.-Las calificaciones promedio de los usuarios para las plataformas Xbox One y PC son las mismas."
   ]
  },
  {
   "cell_type": "markdown",
   "metadata": {},
   "source": [
    "#Eliminamos los valores atipicos de todas nuestras plataformas para evitar resultados sesgados al final"
   ]
  },
  {
   "cell_type": "code",
   "execution_count": 41,
   "metadata": {},
   "outputs": [],
   "source": [
    "#calculamos el IQR\n",
    "Quantil1= juegos['ventas_total_regiones'].quantile(0.25)\n",
    "Quantil3= juegos['ventas_total_regiones'].quantile(0.75)\n",
    "IQR1= Quantil3-Quantil1\n",
    "#definimos los limites\n",
    "limite_inferior1= Quantil1-1.5*IQR1\n",
    "limite_superior1= Quantil3+1.5*IQR1\n",
    "#filtramos los valores atipico\n",
    "valores_atipicos1 = juegos[(juegos['ventas_total_regiones']< limite_inferior1) | (juegos['ventas_total_regiones']> limite_superior1)]\n",
    "#eliminamos los valores atipicos del dataframe para tener una mejor visualizacion\n",
    "juegos_sin_atipicos= juegos[~((juegos['ventas_total_regiones']< limite_inferior1) | (juegos['ventas_total_regiones']> limite_superior1))]"
   ]
  },
  {
   "cell_type": "code",
   "execution_count": 42,
   "metadata": {
    "colab": {
     "base_uri": "https://localhost:8080/"
    },
    "id": "W9C2Dr0e4b_z",
    "outputId": "87a86665-b858-4b55-a783-a901a78dee43"
   },
   "outputs": [
    {
     "name": "stdout",
     "output_type": "stream",
     "text": [
      "valor p: 0.5863951095773552\n",
      "No podemos rechazar la hipótesis nula\n"
     ]
    }
   ],
   "source": [
    "# Prueba las hipótesis\n",
    "# hipotesis nula(h0)= Las calificaciones promedio de los usuarios para las plataformas Xbox One y PC son las mismas.\n",
    "# hipotesis alternativa(h1)= Las calificaciones promedio de los usuarios para las plataformas Xbox One y PC no son estadisticamente iguales\n",
    "\n",
    "calificaciones_promedio_XboxOne = juegos_sin_atipicos[juegos_sin_atipicos['platform'].str.contains('XOne')]['user_score']\n",
    "calificaciones_promedio_XboxOne=calificaciones_promedio_XboxOne.fillna(calificaciones_promedio_XboxOne.mean())\n",
    "calificaciones_promedio_XboxOne\n",
    "calificaciones_promedio_pc = juegos_sin_atipicos[juegos_sin_atipicos['platform'].str.contains('PC')]['user_score']\n",
    "calificaciones_promedio_pc=calificaciones_promedio_pc.fillna(calificaciones_promedio_pc.mean())\n",
    "calificaciones_promedio_pc\n",
    "\n",
    "alpha = 0.05 #establecemos un nivel crítico de significación estadística\n",
    "#realizamos la prueba de levene para identificar si verdaderamente las varianzas son nulas\n",
    "resultados = levene(calificaciones_promedio_XboxOne, calificaciones_promedio_pc)#pruebamos la hipótesis de que las varianzas de las dos poblaciones independientes son iguales\n",
    "print('valor p:', resultados.pvalue) #imprimimos el valor p obtenido\n",
    "\n",
    "if resultados.pvalue < alpha:#comparamos los valores p obtenidos con el nivel de significación estadística\n",
    "    print(\"Rechazamos la hipótesis nula\")\n",
    "else:\n",
    "    print(\"No podemos rechazar la hipótesis nula\")"
   ]
  },
  {
   "cell_type": "code",
   "execution_count": 43,
   "metadata": {
    "colab": {
     "base_uri": "https://localhost:8080/"
    },
    "id": "MGYms11Cuw-y",
    "outputId": "3e2edd50-5d73-4685-af64-0d20e88a15e1"
   },
   "outputs": [
    {
     "name": "stdout",
     "output_type": "stream",
     "text": [
      "valor p: 0.002258104600720455\n",
      "Rechazamos la hipótesis nula\n"
     ]
    }
   ],
   "source": [
    "resultados = st.ttest_ind(calificaciones_promedio_XboxOne, calificaciones_promedio_pc, equal_var=True)#pruebamos la hipótesis de que las medias de las dos poblaciones independientes son iguales\n",
    "print('valor p:', resultados.pvalue) #imprimimos el valor p obtenido\n",
    "\n",
    "if resultados.pvalue < alpha:#comparamos los valores p obtenidos con el nivel de significación estadística\n",
    "    print(\"Rechazamos la hipótesis nula\")\n",
    "else:\n",
    "    print(\"No podemos rechazar la hipótesis nula\")"
   ]
  },
  {
   "cell_type": "markdown",
   "metadata": {
    "id": "JSWc5SuO9oWj"
   },
   "source": [
    "8.2.-Las calificaciones promedio de los usuarios para los géneros de Acción y Deportes son diferentes."
   ]
  },
  {
   "cell_type": "code",
   "execution_count": 44,
   "metadata": {
    "colab": {
     "base_uri": "https://localhost:8080/"
    },
    "id": "81ii2wF_9xK6",
    "outputId": "6dd74840-471e-4e31-a6aa-733424415775"
   },
   "outputs": [
    {
     "name": "stdout",
     "output_type": "stream",
     "text": [
      "valor p: 0.298841845998876\n",
      "No podemos rechazar la hipótesis nula\n"
     ]
    }
   ],
   "source": [
    "# Prueba las hipótesis\n",
    "# hipotesis nula(h0)= Las calificaciones promedio de los usuarios para los géneros de Acción y Deportes son estadisticamente iguales\n",
    "# hipotesis alternativa(h1)= Las calificaciones promedio de los usuarios para los géneros de Acción y Deportes son diferentes.\n",
    "\n",
    "calificaciones_promedio_accion = juegos_sin_atipicos[juegos_sin_atipicos['genre'].str.contains('Action')]['user_score']\n",
    "calificaciones_promedio_accion=calificaciones_promedio_accion.fillna(calificaciones_promedio_accion.mean())\n",
    "calificaciones_promedio_accion\n",
    "\n",
    "calificaciones_promedio_deportes = juegos_sin_atipicos[juegos_sin_atipicos['genre'].str.contains('Sports')]['user_score']\n",
    "calificaciones_promedio_deportes=calificaciones_promedio_deportes.fillna(calificaciones_promedio_deportes.mean())\n",
    "calificaciones_promedio_deportes\n",
    "\n",
    "alpha = 0.05 #establecemos un nivel crítico de significación estadística\n",
    "#realizamos la prueba de levene para identificar si verdaderamente las varianzas son diferentes y si usamos el\n",
    "resultados1 = levene(calificaciones_promedio_accion, calificaciones_promedio_deportes)#pruebamos la hipótesis de que las varianzas de las dos poblaciones independientes son iguales\n",
    "print('valor p:', resultados1.pvalue) #imprimimos el valor p obtenido\n",
    "\n",
    "if resultados1.pvalue < alpha:#comparamos los valores p obtenidos con el nivel de significación estadística\n",
    "    print(\"Rechazamos la hipótesis nula\")\n",
    "else:\n",
    "    print(\"No podemos rechazar la hipótesis nula\")"
   ]
  },
  {
   "cell_type": "code",
   "execution_count": 46,
   "metadata": {
    "colab": {
     "base_uri": "https://localhost:8080/"
    },
    "id": "o77cmjPp0QVL",
    "outputId": "ebfdff7d-fa6a-4bc0-de86-22d051e985ec"
   },
   "outputs": [
    {
     "name": "stdout",
     "output_type": "stream",
     "text": [
      "valor p: 0.4073818519616378\n",
      "No podemos rechazar la hipótesis nula\n"
     ]
    }
   ],
   "source": [
    "resultados2 = st.ttest_ind(calificaciones_promedio_accion, calificaciones_promedio_deportes, equal_var=True)#pruebamos la hipótesis de que las medias de las dos poblaciones independientes son iguales\n",
    "\n",
    "print('valor p:', resultados2.pvalue) #imprimimos el valor p obtenido\n",
    "\n",
    "if resultados2.pvalue < alpha:#comparamos los valores p obtenidos con el nivel de significación estadística\n",
    "    print(\"Rechazamos la hipótesis nula\")\n",
    "else:\n",
    "    print(\"No podemos rechazar la hipótesis nula\")"
   ]
  },
  {
   "cell_type": "markdown",
   "metadata": {},
   "source": [
    "<div class=\"alert alert-block alert-success\">\n",
    "    <b>Comentario del revisor</b> <a class=\"tocSkip\"></a>\n",
    "    \n",
    "Gran trabajo con la prueba de hipótesis. Además, lo complementaste con la prueba de levene para mostrar el supuesto de varianzas iguales. "
   ]
  },
  {
   "cell_type": "markdown",
   "metadata": {
    "id": "NoaZy4b9fJkQ"
   },
   "source": [
    "#Concluciones generales"
   ]
  },
  {
   "cell_type": "markdown",
   "metadata": {
    "id": "0Df8wyUehrK_"
   },
   "source": [
    "El proyecto de la tienda de videojuegos online Ice es un proyecto que nos ha permitido conocer de manera estadista parte de la historia de los videojuegos en algunas regiones del mundo y en donde después de analizar los datos recibidos por la tienda pudimos sacar algunas conclusiones a destacar.\n",
    "\n",
    "-Los inicios de era de los videojuegos se datan a los años 80’s llegando a tener su mayor auge en el año 2009 y 2010 donde despues empieza una caída hasta el 2016\n",
    "\n",
    "-Durante el periodo mencionado anteriormente la plataforma que más destacó a nivel global es PS2\n",
    "\n",
    "-Las plataformas en general tienen un tiempo de vida en el mercado de 8 años, lógicamente con excepciones en donde existen plataformas fuera de este rango, manteniéndose en el mercado desde menos de un año hasta llegar a 31 años como es el caso de PC.\n",
    "\n",
    "-Las plataformas que actualmente (2016) se encuentran en el mercado y que en base a nuestro análisis tienen posibilidades de seguir trabajando son: 3DS, PS4,PSV,Wii,XOne.\n",
    "\n",
    "-La plataforma que actualmente(2016) es la lider en ventas es PS4, y es la que se podría pronosticar un futuro prometedor ya que solamente lleva 4 años en el mercado.\n",
    "\n",
    "-La media de ventas de las 5 mejores plataformas actuales es muy similar pero existen plataformas como PS4 con una cantidad de valores atípicos positivos muy amplia lo que la distingue de las demás a hora de comparar sus ventas.\n",
    "\n",
    "-Tomamos a la plataforma PS4 para hacer algunos análisis individuales y ver su comportamiento.\n",
    "\n",
    "-Existe una correlación medianamente positiva en cuanto a la crítica de los profesionales y las ventas de esta plataforma y no existe una correlación entre la crítica de los usuarios y las ventas de PS4\n",
    "\n",
    "-Comparando las ventas de los juegos de la plataforma PS4 con los mismos juegos de las otras 4 plataformas actuales encontramos que existe una superioridad al momento de generar ingresos, es decir la gente prefiere esta consola al momento de jugar los géneros que están dentro de esta plataforma.\n",
    "\n",
    "-Al analizar los juegos lanzados por género de las 5 plataformas actuales encontramos que no existe una relación directa entre la cantidad de géneros que se compran respecto a la cantidad de ingresos que generan, es decir hay juegos que se venden mucho más pero generan ingresos menores a juegos que se venden menos, con la excepción de los juegos de acción que son una constante como líderes en las listas tanto de la cantidad de ventas como la cantidad de ingresos que generan\n",
    "\n",
    "-Luego analizamos las tres regiones que nos brindaron en nuestros datos que son NA, EU y JP, en donde pudimos observar que existen diferencias en algunos casos no muy marcadas como en la preferencia de consolas entre EU y NA y otras muy marcadas como las cuotas de mercado donde ciertas plataformas varían mucho de una región a otra, observamos que existen más paridad entre NA y EU y más diferencias de estas dos plataformas respecto a JP esto puede deberse a la diferencia cultural y como todos sabemos es mucho más marcada respecto a otras regiones del lado occidental.\n",
    "\n",
    "-Observamos también que el rating en las tres regiones en su mayoría de ventas está calificado con las variables E, T,M,E10+ y sin calificación, por lo que entendemos que hay muchos juegos que todavia no estan valorados de esta manera pero que esto no altera el nivel de ventas en ninguna de las tres regiones.\n",
    "\n",
    "-Para finalizar generamos dos hipótesis para analizar su comportamiento en donde descubrimos que las calificaciones promedio de los usuarios respecto a  las plataformas Xbox One y PC son diferentes, mientrasque respecto a los géneros de acción y deporte son las mismas y no existen diferencias significativas.\n",
    "\n",
    "-En general el proyecto nos ha permitido conocer el comportamiento histórico de los videojuegos y tener un conocimiento más profundo de los sucesos en diferentes regiones del mundo y así poder tener una idea y un panorama respecto a lo que podría suceder los próximos años.\n"
   ]
  },
  {
   "cell_type": "markdown",
   "metadata": {},
   "source": [
    "<div class=\"alert alert-block alert-warning\">\n",
    "<b>Comentario revisor</b> <a class=\"tocSkip\"></a>\n",
    "\n",
    "Marcelo, en general creo que hiciste un muy buen trabajo con el proyecto, pudiste limpiar y trabajar las bases de datos de beuna manera. Además, el análisis explorario de datos fue completo al mostrar resultados relevantes que pueden ser de mucha utilidad para la toma de decisiones y desarrollaste las pruebas de hipótesis de una buena manera. No obstante, recuerda que siempre podemos mejorar y te menciono algunos puntos que debes considerar:\n",
    "\n",
    "\n",
    "*  Considerar eliminar registros atipicos que puedan sesgar nuestros resultados. \n",
    "    \n",
    "    \n",
    "</div>"
   ]
  }
 ],
 "metadata": {
  "ExecuteTimeLog": [
   {
    "duration": 2521,
    "start_time": "2025-01-23T14:27:49.900Z"
   },
   {
    "duration": 560,
    "start_time": "2025-01-23T14:27:53.297Z"
   },
   {
    "duration": 58,
    "start_time": "2025-01-23T14:28:21.256Z"
   },
   {
    "duration": 37,
    "start_time": "2025-01-23T14:29:50.955Z"
   },
   {
    "duration": 20,
    "start_time": "2025-01-23T14:29:54.968Z"
   },
   {
    "duration": 11,
    "start_time": "2025-01-23T14:29:59.763Z"
   },
   {
    "duration": 22,
    "start_time": "2025-01-23T14:30:04.407Z"
   },
   {
    "duration": 5,
    "start_time": "2025-01-23T14:30:09.598Z"
   },
   {
    "duration": 15,
    "start_time": "2025-01-23T14:30:14.260Z"
   },
   {
    "duration": 7,
    "start_time": "2025-01-23T14:30:59.693Z"
   },
   {
    "duration": 13,
    "start_time": "2025-01-23T14:31:04.307Z"
   },
   {
    "duration": 18,
    "start_time": "2025-01-23T14:31:11.674Z"
   },
   {
    "duration": 18,
    "start_time": "2025-01-23T14:32:13.837Z"
   },
   {
    "duration": 18,
    "start_time": "2025-01-23T14:35:34.891Z"
   },
   {
    "duration": 19,
    "start_time": "2025-01-23T14:36:05.480Z"
   },
   {
    "duration": 3,
    "start_time": "2025-01-23T14:38:04.523Z"
   },
   {
    "duration": 24,
    "start_time": "2025-01-23T14:38:08.014Z"
   },
   {
    "duration": 15,
    "start_time": "2025-01-23T14:38:11.072Z"
   },
   {
    "duration": 10,
    "start_time": "2025-01-23T14:38:15.351Z"
   },
   {
    "duration": 19,
    "start_time": "2025-01-23T14:38:18.568Z"
   },
   {
    "duration": 4,
    "start_time": "2025-01-23T14:38:22.417Z"
   },
   {
    "duration": 17,
    "start_time": "2025-01-23T14:38:26.329Z"
   },
   {
    "duration": 8,
    "start_time": "2025-01-23T14:38:33.646Z"
   },
   {
    "duration": 6,
    "start_time": "2025-01-23T14:38:37.907Z"
   },
   {
    "duration": 21,
    "start_time": "2025-01-23T14:38:42.229Z"
   },
   {
    "duration": 21,
    "start_time": "2025-01-23T14:39:19.671Z"
   },
   {
    "duration": 3,
    "start_time": "2025-01-23T14:39:41.687Z"
   },
   {
    "duration": 24,
    "start_time": "2025-01-23T14:39:45.137Z"
   },
   {
    "duration": 15,
    "start_time": "2025-01-23T14:39:49.662Z"
   },
   {
    "duration": 11,
    "start_time": "2025-01-23T14:39:54.206Z"
   },
   {
    "duration": 19,
    "start_time": "2025-01-23T14:39:58.340Z"
   },
   {
    "duration": 4,
    "start_time": "2025-01-23T14:40:01.758Z"
   },
   {
    "duration": 18,
    "start_time": "2025-01-23T14:40:05.890Z"
   },
   {
    "duration": 9,
    "start_time": "2025-01-23T14:40:14.495Z"
   },
   {
    "duration": 5,
    "start_time": "2025-01-23T14:40:20.120Z"
   },
   {
    "duration": 25,
    "start_time": "2025-01-23T14:40:27.781Z"
   },
   {
    "duration": 45,
    "start_time": "2025-01-23T14:41:04.593Z"
   },
   {
    "duration": 20,
    "start_time": "2025-01-23T14:42:01.767Z"
   },
   {
    "duration": 39,
    "start_time": "2025-01-23T14:42:09.427Z"
   },
   {
    "duration": 43,
    "start_time": "2025-01-23T14:44:06.990Z"
   },
   {
    "duration": 409,
    "start_time": "2025-01-23T14:44:39.093Z"
   },
   {
    "duration": 3074,
    "start_time": "2025-01-23T16:52:32.225Z"
   },
   {
    "duration": 38,
    "start_time": "2025-01-23T16:52:46.031Z"
   },
   {
    "duration": 22,
    "start_time": "2025-01-23T16:52:48.633Z"
   },
   {
    "duration": 13,
    "start_time": "2025-01-23T16:52:53.000Z"
   },
   {
    "duration": 21,
    "start_time": "2025-01-23T16:52:56.818Z"
   },
   {
    "duration": 7,
    "start_time": "2025-01-23T16:53:01.387Z"
   },
   {
    "duration": 16,
    "start_time": "2025-01-23T16:53:07.472Z"
   },
   {
    "duration": 8,
    "start_time": "2025-01-23T16:53:14.567Z"
   },
   {
    "duration": 8,
    "start_time": "2025-01-23T16:53:17.594Z"
   },
   {
    "duration": 19,
    "start_time": "2025-01-23T16:53:38.978Z"
   },
   {
    "duration": 23,
    "start_time": "2025-01-23T16:53:55.328Z"
   },
   {
    "duration": 11,
    "start_time": "2025-01-23T16:54:12.495Z"
   },
   {
    "duration": 149,
    "start_time": "2025-01-23T16:54:18.715Z"
   },
   {
    "duration": 13,
    "start_time": "2025-01-23T16:54:27.032Z"
   },
   {
    "duration": 34,
    "start_time": "2025-01-23T16:54:32.359Z"
   },
   {
    "duration": 23,
    "start_time": "2025-01-23T16:54:38.214Z"
   },
   {
    "duration": 11,
    "start_time": "2025-01-23T16:54:44.658Z"
   },
   {
    "duration": 5,
    "start_time": "2025-01-23T16:54:50.633Z"
   },
   {
    "duration": 3,
    "start_time": "2025-01-23T16:54:56.073Z"
   },
   {
    "duration": 10,
    "start_time": "2025-01-23T16:55:00.677Z"
   },
   {
    "duration": 32,
    "start_time": "2025-01-23T16:55:08.901Z"
   },
   {
    "duration": 3,
    "start_time": "2025-01-23T16:55:19.230Z"
   },
   {
    "duration": 12,
    "start_time": "2025-01-23T16:55:23.946Z"
   },
   {
    "duration": 37,
    "start_time": "2025-01-23T16:55:29.702Z"
   },
   {
    "duration": 10,
    "start_time": "2025-01-23T16:55:34.637Z"
   },
   {
    "duration": 287,
    "start_time": "2025-01-23T16:56:36.180Z"
   },
   {
    "duration": 4,
    "start_time": "2025-01-23T16:56:47.085Z"
   },
   {
    "duration": 20,
    "start_time": "2025-01-23T16:56:52.225Z"
   },
   {
    "duration": 11,
    "start_time": "2025-01-23T16:57:01.058Z"
   },
   {
    "duration": 11,
    "start_time": "2025-01-23T16:57:06.836Z"
   },
   {
    "duration": 147,
    "start_time": "2025-01-23T16:57:13.535Z"
   },
   {
    "duration": 11,
    "start_time": "2025-01-23T16:57:22.361Z"
   },
   {
    "duration": 174,
    "start_time": "2025-01-23T16:57:31.055Z"
   },
   {
    "duration": 20,
    "start_time": "2025-01-23T16:57:41.710Z"
   },
   {
    "duration": 98,
    "start_time": "2025-01-23T16:57:50.338Z"
   },
   {
    "duration": 16,
    "start_time": "2025-01-23T16:57:54.836Z"
   },
   {
    "duration": 16,
    "start_time": "2025-01-23T16:58:07.945Z"
   },
   {
    "duration": 4,
    "start_time": "2025-01-23T16:58:11.896Z"
   },
   {
    "duration": 15,
    "start_time": "2025-01-23T16:58:16.148Z"
   },
   {
    "duration": 4,
    "start_time": "2025-01-23T16:58:19.470Z"
   },
   {
    "duration": 8,
    "start_time": "2025-01-23T17:28:07.615Z"
   },
   {
    "duration": 15,
    "start_time": "2025-01-23T17:29:09.903Z"
   },
   {
    "duration": 4,
    "start_time": "2025-01-23T17:29:37.211Z"
   },
   {
    "duration": 14,
    "start_time": "2025-01-23T17:31:12.842Z"
   },
   {
    "duration": 6,
    "start_time": "2025-01-23T17:31:20.905Z"
   },
   {
    "duration": 4,
    "start_time": "2025-01-23T17:38:44.753Z"
   }
  ],
  "colab": {
   "provenance": []
  },
  "kernelspec": {
   "display_name": "Python 3 (ipykernel)",
   "language": "python",
   "name": "python3"
  },
  "language_info": {
   "codemirror_mode": {
    "name": "ipython",
    "version": 3
   },
   "file_extension": ".py",
   "mimetype": "text/x-python",
   "name": "python",
   "nbconvert_exporter": "python",
   "pygments_lexer": "ipython3",
   "version": "3.9.19"
  },
  "toc": {
   "base_numbering": 1,
   "nav_menu": {},
   "number_sections": true,
   "sideBar": true,
   "skip_h1_title": true,
   "title_cell": "Table of Contents",
   "title_sidebar": "Contents",
   "toc_cell": false,
   "toc_position": {},
   "toc_section_display": true,
   "toc_window_display": false
  }
 },
 "nbformat": 4,
 "nbformat_minor": 1
}
